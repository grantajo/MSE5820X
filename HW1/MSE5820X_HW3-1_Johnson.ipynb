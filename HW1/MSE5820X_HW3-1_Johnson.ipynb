{
 "cells": [
  {
   "cell_type": "code",
   "execution_count": 1,
   "id": "27d1bc04-5c71-4c78-af10-fd141ffee708",
   "metadata": {},
   "outputs": [],
   "source": [
    "A = {5,3,1,8,6}\n",
    "B = {9,0,5,6,2}\n",
    "\n",
    "union = A | B # Also set.union(A,B)\n",
    "inter = A & B # Also set.intersection(A,B)\n",
    "diff = B - A # Also set.difference(B,A)\n"
   ]
  },
  {
   "cell_type": "code",
   "execution_count": 2,
   "id": "a4bfe1f2-72f7-4351-8371-d8a37aa5421c",
   "metadata": {},
   "outputs": [
    {
     "name": "stdout",
     "output_type": "stream",
     "text": [
      "{0, 1, 2, 3, 5, 6, 8, 9}\n"
     ]
    }
   ],
   "source": [
    "print(union)"
   ]
  },
  {
   "cell_type": "code",
   "execution_count": 3,
   "id": "c15a7ad3-a1f5-4db7-8dc8-6d18d53d6a4c",
   "metadata": {},
   "outputs": [
    {
     "name": "stdout",
     "output_type": "stream",
     "text": [
      "{5, 6}\n"
     ]
    }
   ],
   "source": [
    "print(inter)"
   ]
  },
  {
   "cell_type": "code",
   "execution_count": 4,
   "id": "51f2a4de-f481-4c07-95f8-def9b73043cf",
   "metadata": {},
   "outputs": [
    {
     "name": "stdout",
     "output_type": "stream",
     "text": [
      "{0, 9, 2}\n"
     ]
    }
   ],
   "source": [
    "print(diff)"
   ]
  }
 ],
 "metadata": {
  "kernelspec": {
   "display_name": "Python 3 (Spyder)",
   "language": "python3",
   "name": "python3"
  },
  "language_info": {
   "codemirror_mode": {
    "name": "ipython",
    "version": 3
   },
   "file_extension": ".py",
   "mimetype": "text/x-python",
   "name": "python",
   "nbconvert_exporter": "python",
   "pygments_lexer": "ipython3",
   "version": "3.12.3"
  }
 },
 "nbformat": 4,
 "nbformat_minor": 5
}
