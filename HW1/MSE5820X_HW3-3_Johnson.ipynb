{
 "cells": [
  {
   "cell_type": "code",
   "execution_count": 3,
   "id": "02f7b1f1-dba4-40a2-9d53-e6f51520a350",
   "metadata": {},
   "outputs": [],
   "source": [
    "import numpy as np"
   ]
  },
  {
   "cell_type": "code",
   "execution_count": 12,
   "id": "1fe3c4d2-c45c-4bf9-aed5-6e332a361645",
   "metadata": {},
   "outputs": [],
   "source": [
    "start = 1\n",
    "end = 2.2\n",
    "number = 6"
   ]
  },
  {
   "cell_type": "code",
   "execution_count": 16,
   "id": "fba28b83-986f-4d7c-b671-0a7618110e18",
   "metadata": {},
   "outputs": [],
   "source": [
    "x = np.linspace(end, start, number, endpoint=False)\n",
    "x = np.sort(x)"
   ]
  },
  {
   "cell_type": "code",
   "execution_count": 17,
   "id": "9313856b-35c9-47a1-94f4-c9451c2ce3df",
   "metadata": {},
   "outputs": [
    {
     "name": "stdout",
     "output_type": "stream",
     "text": [
      "[1.2 1.4 1.6 1.8 2.  2.2]\n"
     ]
    }
   ],
   "source": [
    "print(x)"
   ]
  }
 ],
 "metadata": {
  "kernelspec": {
   "display_name": "Python 3 (ipykernel)",
   "language": "python",
   "name": "python3"
  },
  "language_info": {
   "codemirror_mode": {
    "name": "ipython",
    "version": 3
   },
   "file_extension": ".py",
   "mimetype": "text/x-python",
   "name": "python",
   "nbconvert_exporter": "python",
   "pygments_lexer": "ipython3",
   "version": "3.12.7"
  }
 },
 "nbformat": 4,
 "nbformat_minor": 5
}
