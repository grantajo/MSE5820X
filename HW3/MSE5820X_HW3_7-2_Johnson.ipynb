{
 "cells": [
  {
   "cell_type": "markdown",
   "id": "a7268efe-3d6d-4d7f-a6c2-5ba0fcbfbf84",
   "metadata": {},
   "source": [
    "HW 4"
   ]
  },
  {
   "cell_type": "markdown",
   "id": "f4031c23-9e57-4818-bd53-2ed8c21ea5c9",
   "metadata": {},
   "source": [
    "Questions 7.2, 7.3, 7.5, 8.4"
   ]
  },
  {
   "cell_type": "markdown",
   "id": "8bb3e7ce-baa2-4acb-bcd8-e59d50f8ab10",
   "metadata": {},
   "source": [
    "Question 7.2"
   ]
  },
  {
   "cell_type": "code",
   "execution_count": 29,
   "id": "0261b819-095b-4734-a6c3-47ea30cb0b88",
   "metadata": {},
   "outputs": [],
   "source": [
    "import scipy.integrate as integrate\n",
    "import numpy as np\n",
    "import math"
   ]
  },
  {
   "cell_type": "code",
   "execution_count": 4,
   "id": "c8f345c2-6996-4bfd-a7d2-6e746f421e05",
   "metadata": {},
   "outputs": [],
   "source": [
    "mass = 4 # amu\n",
    "m = mass / 6.022e+26 # convert from amu to kg\n",
    "kb = 1.38e-23 # J/K\n",
    "temp = 298.15 # K\n",
    "pi = np.pi\n",
    "\n",
    "def f(c):\n",
    "    first = 4 * pi * c**2\n",
    "    second = (m / 2 / pi / kb / temp)**1.5\n",
    "    third = np.exp(-m * c**2 / 2 / kb / temp)\n",
    "    return first * second * third\n",
    "\n",
    "def xf(c):\n",
    "    first = 4 * pi * c**2\n",
    "    second = (m / 2 / pi / kb / temp)**1.5\n",
    "    third = np.exp(-m * c**2 / 2 / kb / temp)\n",
    "    return c * first * second * third\n",
    "\n",
    "average, error = integrate.quad(xf, 0, np.inf)"
   ]
  },
  {
   "cell_type": "code",
   "execution_count": 5,
   "id": "87f9b0fa-546d-41ab-ab6d-dc96ed6d9807",
   "metadata": {},
   "outputs": [
    {
     "name": "stdout",
     "output_type": "stream",
     "text": [
      "Average speed: 1255.9356469933211 m/s\n",
      "Error: 1.3257951487490385e-05\n"
     ]
    }
   ],
   "source": [
    "print(\"Average speed:\",average,\"m/s\")\n",
    "print(\"Error:\",error)"
   ]
  },
  {
   "cell_type": "code",
   "execution_count": 6,
   "id": "869df665-0400-4123-9f31-78f4696bdbb1",
   "metadata": {},
   "outputs": [],
   "source": [
    "def varf(c):\n",
    "    first = 4 * pi * c**2\n",
    "    second = (m / 2 / pi / kb / temp)**1.5\n",
    "    third = np.exp(-m * c**2 / 2 / kb / temp)\n",
    "    return (c-average)**2 * first * second * third\n",
    "\n",
    "variance, error1 = integrate.quad(varf, 0, np.inf)\n",
    "stdev = np.sqrt(variance)"
   ]
  },
  {
   "cell_type": "code",
   "execution_count": 8,
   "id": "28f4100d-5dff-4c82-9db9-c49756dc55bd",
   "metadata": {},
   "outputs": [
    {
     "name": "stdout",
     "output_type": "stream",
     "text": [
      "Variance: 280926.0261114654\n",
      "Standard Deviation: 530.0245523666479 m/s\n"
     ]
    }
   ],
   "source": [
    "print(\"Variance:\",variance)\n",
    "print(\"Standard Deviation:\",stdev,\"m/s\")"
   ]
  },
  {
   "cell_type": "code",
   "execution_count": 39,
   "id": "6540d62b-8f6e-4ec0-bb18-4b1f1f2a20da",
   "metadata": {},
   "outputs": [
    {
     "name": "stdout",
     "output_type": "stream",
     "text": [
      "Average:\n",
      " [727.3609483257026, 1028.6437178627639, 1259.8261179415967, 1454.7218966514054, 1626.4285246349828] m/s\n",
      "Standard Deviation:\n",
      " [306.95773463252993, 434.10379139264535, 531.6663921597867, 613.9154692650599, 686.3783608576783] m/s\n"
     ]
    }
   ],
   "source": [
    "def xft(c):\n",
    "    first = 4 * pi * c**2\n",
    "    second = (m / 2 / pi / kb / temp)**1.5\n",
    "    third = np.exp(-m * c**2 / 2 / kb / temp)\n",
    "    return c * first * second * third\n",
    "\n",
    "def varft(c):\n",
    "    first = 4 * pi * c**2\n",
    "    second = (m / 2 / pi / kb / temp)**1.5\n",
    "    third = np.exp(-m * c**2 / 2 / kb / temp)\n",
    "    return (c-average)**2 * first * second * third\n",
    "\n",
    "templist = [100, 200, 300, 400, 500]\n",
    "averagelist = []\n",
    "stdevlist = []\n",
    "for x in templist:\n",
    "    temp = x\n",
    "    average, error0 = integrate.quad(xft, 0, np.inf)\n",
    "    variance, error0 = integrate.quad(varft, 0, np.inf)\n",
    "    stdev = math.sqrt(variance)\n",
    "    averagelist.append(average)\n",
    "    stdevlist.append(stdev)\n",
    "\n",
    "\n",
    "print(\"Average:\\n\",averagelist,\"m/s\")\n",
    "print(\"Standard Deviation:\\n\",stdevlist,\"m/s\")"
   ]
  },
  {
   "cell_type": "markdown",
   "id": "7dcec3a0-508d-470e-b242-20bc37040783",
   "metadata": {},
   "source": [
    "Both the average and the standard deviation increase."
   ]
  }
 ],
 "metadata": {
  "kernelspec": {
   "display_name": "Python 3 (ipykernel)",
   "language": "python",
   "name": "python3"
  },
  "language_info": {
   "codemirror_mode": {
    "name": "ipython",
    "version": 3
   },
   "file_extension": ".py",
   "mimetype": "text/x-python",
   "name": "python",
   "nbconvert_exporter": "python",
   "pygments_lexer": "ipython3",
   "version": "3.10.12"
  }
 },
 "nbformat": 4,
 "nbformat_minor": 5
}
