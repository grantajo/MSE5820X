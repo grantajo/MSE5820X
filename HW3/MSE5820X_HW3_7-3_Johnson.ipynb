{
 "cells": [
  {
   "cell_type": "markdown",
   "id": "70c6a861-657d-4605-bab5-e0f1b4583cfd",
   "metadata": {},
   "source": [
    "Average = Sum(i/n) = 1/n Sum(i) = 1/n * n(n+1)/2 = (n+1)/2"
   ]
  },
  {
   "cell_type": "markdown",
   "id": "67b57274-660b-45a6-9b82-73406b31d785",
   "metadata": {},
   "source": [
    "Variance = Sum((1/n) * {i - (n+1)/2}^2)\n",
    "         = (n+1)(2n+1)/6 - {(n+1)^2}/4"
   ]
  }
 ],
 "metadata": {
  "kernelspec": {
   "display_name": "Python 3 (Spyder)",
   "language": "python3",
   "name": "python3"
  },
  "language_info": {
   "codemirror_mode": {
    "name": "ipython",
    "version": 3
   },
   "file_extension": ".py",
   "mimetype": "text/x-python",
   "name": "python",
   "nbconvert_exporter": "python",
   "pygments_lexer": "ipython3",
   "version": "3.12.8"
  }
 },
 "nbformat": 4,
 "nbformat_minor": 5
}
