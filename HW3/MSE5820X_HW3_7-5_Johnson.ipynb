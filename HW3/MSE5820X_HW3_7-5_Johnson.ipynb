{
 "cells": [
  {
   "cell_type": "code",
   "execution_count": 12,
   "id": "23c7a57d-3522-4e7d-8003-9a533c4f80a8",
   "metadata": {},
   "outputs": [],
   "source": [
    "import scipy\n",
    "from sympy import *\n",
    "import math\n",
    "import matplotlib"
   ]
  },
  {
   "cell_type": "code",
   "execution_count": 14,
   "id": "91558062-190f-4f0a-a758-376b2a1c5aa7",
   "metadata": {},
   "outputs": [
    {
     "name": "stdout",
     "output_type": "stream",
     "text": [
      "L/(2*pi**2) + 2*(-L**2/(4*pi**2) + L**2/4)/L\n"
     ]
    }
   ],
   "source": [
    "L = Symbol('L')\n",
    "x = Symbol('x')\n",
    "\n",
    "integrate(x * (2/L) * sin(pi * x / L)**2, (x, 0, L))"
   ]
  },
  {
   "cell_type": "markdown",
   "id": "863b4e7e-3bf2-4158-a18e-503d901cc1cd",
   "metadata": {},
   "source": [
    "Simplified, this is L/2"
   ]
  },
  {
   "cell_type": "code",
   "execution_count": 7,
   "id": "d0205a0c-c07b-4b74-b7a1-3761bf074c55",
   "metadata": {},
   "outputs": [
    {
     "data": {
      "text/latex": [
       "$\\displaystyle - \\frac{L^{2}}{2 \\pi^{2}} + \\frac{L^{2}}{12}$"
      ],
      "text/plain": [
       "-L**2/(2*pi**2) + L**2/12"
      ]
     },
     "execution_count": 7,
     "metadata": {},
     "output_type": "execute_result"
    }
   ],
   "source": [
    "L = Symbol('L')\n",
    "x = Symbol('x')\n",
    "\n",
    "integrate((x-L/2)**2 * (2/L) * sin(pi * x / L)**2, (x,0,L))"
   ]
  },
  {
   "cell_type": "markdown",
   "id": "988b1fb3-01b9-4061-900c-0e15bdfd9e6b",
   "metadata": {},
   "source": [
    "The square root of this is L/sqrt(2) * (1/sqrt(6) - 1/pi)"
   ]
  },
  {
   "cell_type": "code",
   "execution_count": 18,
   "id": "4d37c05d-2e97-4ff0-8ba8-13528b621667",
   "metadata": {},
   "outputs": [
    {
     "name": "stdout",
     "output_type": "stream",
     "text": [
      "\\frac{\\sqrt{2} L \\left(- \\frac{1}{\\pi} + \\frac{\\sqrt{6}}{6}\\right)}{2}\n"
     ]
    }
   ],
   "source": [
    "init_printing()\n",
    "expr = latex(L/sqrt(2) * (1/sqrt(6) - 1/pi))\n",
    "print(expr)"
   ]
  }
 ],
 "metadata": {
  "kernelspec": {
   "display_name": "Python 3 (ipykernel)",
   "language": "python",
   "name": "python3"
  },
  "language_info": {
   "codemirror_mode": {
    "name": "ipython",
    "version": 3
   },
   "file_extension": ".py",
   "mimetype": "text/x-python",
   "name": "python",
   "nbconvert_exporter": "python",
   "pygments_lexer": "ipython3",
   "version": "3.10.12"
  }
 },
 "nbformat": 4,
 "nbformat_minor": 5
}
