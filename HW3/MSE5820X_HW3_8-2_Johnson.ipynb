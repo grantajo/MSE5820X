{
 "cells": [
  {
   "cell_type": "code",
   "execution_count": 12,
   "id": "73c68d6d-6b06-4877-ab26-9bfe26c769f3",
   "metadata": {},
   "outputs": [],
   "source": [
    "import numpy as np\n",
    "import scipy.stats as stats"
   ]
  },
  {
   "cell_type": "code",
   "execution_count": 6,
   "id": "1d9e72d6-a666-4cfb-aef3-8a37027a0e62",
   "metadata": {},
   "outputs": [],
   "source": [
    "X = [-2, -1, 0, 1, 2]\n",
    "Y = [5, 2, 4, 1, 3]"
   ]
  },
  {
   "cell_type": "code",
   "execution_count": 8,
   "id": "0e30d2b7-d8f8-4bb8-9c6a-a8709e6f9486",
   "metadata": {},
   "outputs": [
    {
     "data": {
      "text/plain": [
       "array([[ 2.5 , -1.25],\n",
       "       [-1.25,  2.5 ]])"
      ]
     },
     "execution_count": 8,
     "metadata": {},
     "output_type": "execute_result"
    }
   ],
   "source": [
    "np.cov(X,Y,rowvar=False)"
   ]
  },
  {
   "cell_type": "code",
   "execution_count": 14,
   "id": "def0101e-aa9a-4f7e-bb5b-a634419c62eb",
   "metadata": {},
   "outputs": [
    {
     "name": "stdout",
     "output_type": "stream",
     "text": [
      "Correlation Coefficient: -0.5\n",
      "P-Value: 0.39100221895577064\n"
     ]
    }
   ],
   "source": [
    "pcc, p_value = stats.pearsonr(X,Y)\n",
    "print(\"Correlation Coefficient:\",pcc)\n",
    "print(\"P-Value:\",p_value)"
   ]
  }
 ],
 "metadata": {
  "kernelspec": {
   "display_name": "Python 3 (ipykernel)",
   "language": "python",
   "name": "python3"
  },
  "language_info": {
   "codemirror_mode": {
    "name": "ipython",
    "version": 3
   },
   "file_extension": ".py",
   "mimetype": "text/x-python",
   "name": "python",
   "nbconvert_exporter": "python",
   "pygments_lexer": "ipython3",
   "version": "3.10.12"
  }
 },
 "nbformat": 4,
 "nbformat_minor": 5
}
