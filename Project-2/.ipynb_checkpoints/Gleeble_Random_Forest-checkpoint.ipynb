{
 "cells": [
  {
   "cell_type": "markdown",
   "id": "11de4b8e-8d2b-468d-ba7d-0cb38882336b",
   "metadata": {},
   "source": [
    "## Project 2 - Machine Learning"
   ]
  },
  {
   "cell_type": "markdown",
   "id": "ccfe3b95-f49e-4280-8898-39363ef66a6a",
   "metadata": {},
   "source": [
    "### Notes: Use Random Forest on Gleeble Data"
   ]
  },
  {
   "cell_type": "markdown",
   "id": "f4f482e2-cb5f-4608-b30b-cc0148dd1610",
   "metadata": {},
   "source": [
    "General thought process: Explain the problem, dataset, which approach, data processing/analysis, machine learning"
   ]
  },
  {
   "cell_type": "markdown",
   "id": "cd0468d4-98dc-4857-8e7b-a0ff58aed3f1",
   "metadata": {},
   "source": [
    "## The Problem\n",
    "There is a significant cost to performing additive manufacturing (AM) experiments. We would like to supplement the data gathered from AM in a cheaper way. The Gleeble offers a way to perform heat treatments on cheaper wrought material that can be used to supplement datasets for AM. At the end of this, we would like to understand how the microstructure influences properties of duplex stainless steels and try to get a pathway to create an equation that can be used to determine the properties based on the microstructure."
   ]
  },
  {
   "cell_type": "code",
   "execution_count": 2,
   "id": "e82abbf6-4e40-4d3b-b47b-d895cc3d1a7c",
   "metadata": {},
   "outputs": [],
   "source": [
    "from sklearn.ensemble import RandomForestClassifier\n",
    "from sklearn.model_selection import train_test_split\n",
    "import pandas as pd\n",
    "import numpy as np\n",
    "import math\n",
    "import matplotlib.pyplot as plt"
   ]
  },
  {
   "cell_type": "markdown",
   "id": "8ad20a3f-e822-49ef-ac4b-c8b911c760ef",
   "metadata": {},
   "source": [
    "## Dataset"
   ]
  },
  {
   "cell_type": "markdown",
   "id": "f1919d06-9be7-47a5-b024-7df5966a7b7d",
   "metadata": {},
   "source": [
    "#### Import Gleeble data, clean it up to remove reiterated variables"
   ]
  },
  {
   "cell_type": "code",
   "execution_count": 20,
   "id": "7616dfbc-d6f9-487f-b8bf-f580b4065879",
   "metadata": {},
   "outputs": [],
   "source": [
    "df_original = pd.read_csv('Gleeble_Data.csv')\n",
    "perimeter = df_original.pop('Perimeter Fraction - Ferrite')\n",
    "df_original.insert(9, 'Perimeter Fraction - Ferrite', perimeter)\n",
    "df = df_original.drop(columns=['Sample','Distance from center','Area Fraction - Austenite','Perimeter Fraction - Austenite']) # Remove the columns that can't be used for correlation coefficient measurement\n",
    "df.rename(columns={'Perimeter Fraction - Ferrite':'Phase Boundary Area Density'}, inplace=True)\n",
    "df = df[['Hardness', 'Area Fraction - Ferrite', 'Mean Intercept - Ferrite', 'Mean Inverse Intercept - Ferrite', 'Mean Nearest Neighbor - Ferrite', 'Mean Average Neighbor - Ferrite', 'Mean Equivalent Diameter - Ferrite', 'Mean Roundness - Ferrite', 'Mean Intercept - Austenite', 'Mean Inverse Intercept - Austenite', 'Mean Nearest Neighbor - Austenite', 'Mean Average Neighbor - Austenite', 'Mean Equivalent Diameter - Austenite', 'Mean Roundness - Austenite', 'Phase Boundary Area Density']]"
   ]
  },
  {
   "cell_type": "code",
   "execution_count": 21,
   "id": "887b61b9-eb79-4d71-8676-08b5cfa794f3",
   "metadata": {},
   "outputs": [],
   "source": [
    "hardness = df[['Hardness']]"
   ]
  },
  {
   "cell_type": "markdown",
   "id": "126520b0-b817-4fc0-bc4e-e052e59b4213",
   "metadata": {},
   "source": [
    "#### Import AM data to add on the more difficult and expensive data"
   ]
  },
  {
   "cell_type": "code",
   "execution_count": null,
   "id": "02d07108-d08b-4642-92b2-1c881f20086c",
   "metadata": {},
   "outputs": [],
   "source": []
  },
  {
   "cell_type": "markdown",
   "id": "7ebd32a2-2957-4b00-a597-6c6e38e1ba50",
   "metadata": {},
   "source": [
    "## Statistical Analysis on the Data"
   ]
  },
  {
   "cell_type": "markdown",
   "id": "e9f4753b-adbb-4a05-a0b5-f1f111fc2dda",
   "metadata": {},
   "source": [
    "#### Perform statistical analysis"
   ]
  },
  {
   "cell_type": "code",
   "execution_count": null,
   "id": "2d583b68-6f71-43be-8827-72f4ac8a15fc",
   "metadata": {},
   "outputs": [],
   "source": []
  },
  {
   "cell_type": "markdown",
   "id": "f62201f0-bf9a-4d05-80aa-45adac110c19",
   "metadata": {},
   "source": [
    "#### Perform Principal Component Analysis"
   ]
  },
  {
   "cell_type": "code",
   "execution_count": null,
   "id": "a340079d-931e-4f51-a827-099e22ca2a49",
   "metadata": {},
   "outputs": [],
   "source": []
  },
  {
   "cell_type": "markdown",
   "id": "115bb6c7-f0eb-4b52-af28-ac1e8d2fa264",
   "metadata": {},
   "source": [
    "#### Data Representation"
   ]
  },
  {
   "cell_type": "code",
   "execution_count": null,
   "id": "2ab99ec4-fdda-432d-a146-21da48acc4e5",
   "metadata": {},
   "outputs": [],
   "source": []
  },
  {
   "cell_type": "markdown",
   "id": "14db9715-0ddd-4c30-9942-e4b3416eb009",
   "metadata": {},
   "source": [
    "## Machine Learning"
   ]
  },
  {
   "cell_type": "markdown",
   "id": "1d8fc3b5-7fa9-45f7-9eb1-39e6eacd2b6c",
   "metadata": {},
   "source": [
    "#### Random Forest"
   ]
  },
  {
   "cell_type": "code",
   "execution_count": null,
   "id": "11b7b270-f075-42d9-ae0e-704a127fd3f0",
   "metadata": {},
   "outputs": [],
   "source": []
  }
 ],
 "metadata": {
  "kernelspec": {
   "display_name": "Python 3 (ipykernel)",
   "language": "python",
   "name": "python3"
  },
  "language_info": {
   "codemirror_mode": {
    "name": "ipython",
    "version": 3
   },
   "file_extension": ".py",
   "mimetype": "text/x-python",
   "name": "python",
   "nbconvert_exporter": "python",
   "pygments_lexer": "ipython3",
   "version": "3.12.8"
  }
 },
 "nbformat": 4,
 "nbformat_minor": 5
}
