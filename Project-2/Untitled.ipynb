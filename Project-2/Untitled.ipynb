{
 "cells": [
  {
   "cell_type": "markdown",
   "id": "11de4b8e-8d2b-468d-ba7d-0cb38882336b",
   "metadata": {},
   "source": [
    "## Project 2 - Machine Learning"
   ]
  },
  {
   "cell_type": "markdown",
   "id": "ccfe3b95-f49e-4280-8898-39363ef66a6a",
   "metadata": {},
   "source": [
    "### Notes: Use Random Forest on Gleeble Data"
   ]
  },
  {
   "cell_type": "code",
   "execution_count": 2,
   "id": "e82abbf6-4e40-4d3b-b47b-d895cc3d1a7c",
   "metadata": {},
   "outputs": [],
   "source": [
    "from sklearn.ensemble import RandomForestClassifier\n",
    "from sklearn.model_selection import train_test_split\n",
    "import pandas as pd\n",
    "import numpy as np\n",
    "import math\n",
    "import matplotlib.pyplot as plt\n"
   ]
  },
  {
   "cell_type": "code",
   "execution_count": null,
   "id": "7616dfbc-d6f9-487f-b8bf-f580b4065879",
   "metadata": {},
   "outputs": [],
   "source": [
    "df_original = pd.read_csv('Gleeble_Data.csv')\n",
    "perimeter = df_original.pop('Perimeter Fraction - Ferrite')\n",
    "df_original.insert(9, 'Perimeter Fraction - Ferrite', perimeter)\n",
    "df = df_original.drop(columns=['Sample','Distance from center','Area Fraction - Austenite','Perimeter Fraction - Austenite']) # Remove the columns that can't be used for correlation coefficient measurement\n",
    "df.rename(columns={'Perimeter Fraction - Ferrite':'Phase Boundary Area Density'}, inplace=True)\n",
    "df = df[['Hardness', 'Area Fraction - Ferrite', 'Mean Intercept - Ferrite', 'Mean Inverse Intercept - Ferrite', 'Mean Nearest Neighbor - Ferrite', 'Mean Average Neighbor - Ferrite', 'Mean Equivalent Diameter - Ferrite', 'Mean Roundness - Ferrite', 'Mean Intercept - Austenite', 'Mean Inverse Intercept - Austenite', 'Mean Nearest Neighbor - Austenite', 'Mean Average Neighbor - Austenite', 'Mean Equivalent Diameter - Austenite', 'Mean Roundness - Austenite', 'Phase Boundary Area Density']]\n",
    "# column_headers = list(df.columns.values)"
   ]
  }
 ],
 "metadata": {
  "kernelspec": {
   "display_name": "Python 3 (ipykernel)",
   "language": "python",
   "name": "python3"
  },
  "language_info": {
   "codemirror_mode": {
    "name": "ipython",
    "version": 3
   },
   "file_extension": ".py",
   "mimetype": "text/x-python",
   "name": "python",
   "nbconvert_exporter": "python",
   "pygments_lexer": "ipython3",
   "version": "3.12.8"
  }
 },
 "nbformat": 4,
 "nbformat_minor": 5
}
