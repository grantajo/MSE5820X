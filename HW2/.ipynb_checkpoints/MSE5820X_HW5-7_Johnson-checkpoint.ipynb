{
 "cells": [
  {
   "cell_type": "markdown",
   "id": "cfae332d-a3b4-4b30-bb99-f9cafaecadf6",
   "metadata": {},
   "source": [
    "a)    a_n = a_n-1 + a_n-2\n",
    "\n",
    "sum = n*(n-1)/2"
   ]
  },
  {
   "cell_type": "code",
   "execution_count": 53,
   "id": "a0597dff-1b2a-4a87-824f-a37eb2e04e70",
   "metadata": {},
   "outputs": [],
   "source": [
    "import numpy as np\n",
    "import time"
   ]
  },
  {
   "cell_type": "code",
   "execution_count": 48,
   "id": "c217e448-398b-4d2f-999e-90925a8bd223",
   "metadata": {},
   "outputs": [],
   "source": [
    "#b) My implementation\n",
    "\n",
    "def CumulativeSum(array):\n",
    "    \n",
    "    arraynew = []\n",
    "    total = 0\n",
    "    \n",
    "    for num in array:\n",
    "        total += num\n",
    "        arraynew.append(total)\n",
    "    return arraynew\n",
    "\n"
   ]
  },
  {
   "cell_type": "code",
   "execution_count": 67,
   "id": "7f275508-1d91-4fb7-b324-3e3d832b3e84",
   "metadata": {},
   "outputs": [
    {
     "name": "stdout",
     "output_type": "stream",
     "text": [
      "[1, 3, 5, 6, 9, 15, 22, 26, 29, 31, 36, 43, 47]\n",
      "Time elapsed: 0.0002498626708984375\n"
     ]
    }
   ],
   "source": [
    "array = [1,2,2,1,3,6,7,4,3,2,5,7,4]\n",
    "t0 = time.time()\n",
    "answer = CumulativeSum(array)\n",
    "t1 = time.time()\n",
    "elapsed = t1-t0\n",
    "print(answer)\n",
    "print('Time elapsed:',elapsed)"
   ]
  },
  {
   "cell_type": "code",
   "execution_count": 66,
   "id": "4f6104bf-d61c-4054-85ff-e95aab1d4d9b",
   "metadata": {},
   "outputs": [
    {
     "name": "stdout",
     "output_type": "stream",
     "text": [
      "[ 1  3  5  6  9 15 22 26 29 31 36 43 47]\n",
      "Time elapsed: 0.00034046173095703125\n"
     ]
    }
   ],
   "source": [
    "array = [1,2,2,1,3,6,7,4,3,2,5,7,4]\n",
    "\n",
    "t0 = time.time()\n",
    "answer = np.cumsum(array)\n",
    "t1 = time.time()\n",
    "elapsed = t1-t0\n",
    "print(answer)\n",
    "print('Time elapsed:',elapsed)"
   ]
  },
  {
   "cell_type": "code",
   "execution_count": 63,
   "id": "411a061c-a9e1-4277-be4b-50f33adf05f4",
   "metadata": {},
   "outputs": [
    {
     "data": {
      "text/plain": [
       "'\\nMy implementation makes a list, not an array, but it is slightly faster?\\n'"
      ]
     },
     "execution_count": 63,
     "metadata": {},
     "output_type": "execute_result"
    }
   ],
   "source": [
    "\"\"\"\n",
    "My implementation makes a list, not an array, but it works well.\n",
    "\"\"\""
   ]
  }
 ],
 "metadata": {
  "kernelspec": {
   "display_name": "Python 3 (Spyder)",
   "language": "python3",
   "name": "python3"
  },
  "language_info": {
   "codemirror_mode": {
    "name": "ipython",
    "version": 3
   },
   "file_extension": ".py",
   "mimetype": "text/x-python",
   "name": "python",
   "nbconvert_exporter": "python",
   "pygments_lexer": "ipython3",
   "version": "3.12.3"
  }
 },
 "nbformat": 4,
 "nbformat_minor": 5
}
