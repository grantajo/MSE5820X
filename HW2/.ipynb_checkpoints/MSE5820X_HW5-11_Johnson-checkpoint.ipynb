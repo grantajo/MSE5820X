{
 "cells": [
  {
   "cell_type": "code",
   "execution_count": 2,
   "id": "db232b23-db4f-4ae3-a895-f53d5266e799",
   "metadata": {},
   "outputs": [],
   "source": [
    "import random"
   ]
  },
  {
   "cell_type": "code",
   "execution_count": 9,
   "id": "07b1142f-0203-4963-abfa-88391e0c2a28",
   "metadata": {},
   "outputs": [
    {
     "name": "stdout",
     "output_type": "stream",
     "text": [
      "0.45\n",
      "0.75\n",
      "0.3\n"
     ]
    }
   ],
   "source": [
    "n = 20\n",
    "N = 100\n",
    "\n",
    "A = 0\n",
    "B = 0\n",
    "both = 0\n",
    "\n",
    "for i in range(n):\n",
    "    test = random.randint(1,100)\n",
    "    # print(test)\n",
    "    if test < 50 and test % 2 == 1:\n",
    "        both += 1\n",
    "        A += 1\n",
    "        B +=1\n",
    "    elif test < 50:\n",
    "        A += 1\n",
    "    elif test % 2 == 1:\n",
    "        B += 1\n",
    "\n",
    "print(A/n)\n",
    "print(B/n)\n",
    "print(both/n)"
   ]
  },
  {
   "cell_type": "code",
   "execution_count": 8,
   "id": "91062a39-8120-428d-8a01-413a1e327498",
   "metadata": {},
   "outputs": [
    {
     "data": {
      "text/plain": [
       "'\\nThere is definitely some variability, but the numbers seem fairly accurate compared to the theoretical values\\n'"
      ]
     },
     "execution_count": 8,
     "metadata": {},
     "output_type": "execute_result"
    }
   ],
   "source": [
    "\"\"\"\n",
    "There is definitely some variability, but the numbers seem fairly accurate compared to the theoretical values\n",
    "\"\"\""
   ]
  },
  {
   "cell_type": "code",
   "execution_count": null,
   "id": "b4039e95-f615-4ae9-96ff-cb87851d88ea",
   "metadata": {},
   "outputs": [],
   "source": []
  }
 ],
 "metadata": {
  "kernelspec": {
   "display_name": "Python 3 (Spyder)",
   "language": "python3",
   "name": "python3"
  },
  "language_info": {
   "codemirror_mode": {
    "name": "ipython",
    "version": 3
   },
   "file_extension": ".py",
   "mimetype": "text/x-python",
   "name": "python",
   "nbconvert_exporter": "python",
   "pygments_lexer": "ipython3",
   "version": "3.12.3"
  }
 },
 "nbformat": 4,
 "nbformat_minor": 5
}
