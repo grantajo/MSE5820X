{
 "cells": [
  {
   "cell_type": "markdown",
   "metadata": {},
   "source": [
    "This jupyter notebook is part of the supplementary material for the book \"Materials Data Science\" (Stefan Sandfeld, Springer, 2024, DOI 10.1007/978-3-031-46565-9). For further details please refer to the accompanying webpage https://mds-book.org."
   ]
  },
  {
   "cell_type": "markdown",
   "metadata": {},
   "source": [
    "## 3.3 Representation of Data in Statistics and Machine Learning\n",
    "\n",
    "### Example 3.3 and 3.4: Representation of a Measurement Dataset\n",
    "Create feature vectors and the target vector as 1D arrays:"
   ]
  },
  {
   "cell_type": "code",
   "execution_count": 1,
   "metadata": {},
   "outputs": [
    {
     "data": {
      "text/plain": [
       "array([ 0., 10., 20., 30., 40., 50., 60.])"
      ]
     },
     "execution_count": 1,
     "metadata": {},
     "output_type": "execute_result"
    }
   ],
   "source": [
    "import numpy as np\n",
    "X1 = np.array([0, 10, 20, 30, 40, 50, 60], dtype=float)\n",
    "X2 = np.array([1010, 1010, 1010, 1010, 1013, 1013, 1013], dtype=float)\n",
    "Y = np.array([180, 170, 160, 150, 140, 130, 120], dtype=float)\n",
    "X1"
   ]
  },
  {
   "cell_type": "markdown",
   "metadata": {},
   "source": [
    "Convert them to column vectors, i.e., two-dimensional arrays with only\n",
    "one column:"
   ]
  },
  {
   "cell_type": "code",
   "execution_count": 2,
   "metadata": {},
   "outputs": [
    {
     "data": {
      "text/plain": [
       "array([[ 0.],\n",
       "       [10.],\n",
       "       [20.],\n",
       "       [30.],\n",
       "       [40.],\n",
       "       [50.],\n",
       "       [60.]])"
      ]
     },
     "execution_count": 2,
     "metadata": {},
     "output_type": "execute_result"
    }
   ],
   "source": [
    "X1 = X1.reshape(-1, 1)\n",
    "X2 = X2.reshape(-1, 1)\n",
    "Y = Y.reshape(-1, 1)\n",
    "X1"
   ]
  },
  {
   "cell_type": "markdown",
   "metadata": {},
   "source": [
    "Create the feature matrix X and the data matrix D"
   ]
  },
  {
   "cell_type": "code",
   "execution_count": 3,
   "metadata": {},
   "outputs": [
    {
     "data": {
      "text/plain": [
       "array([[   0., 1010.,  180.],\n",
       "       [  10., 1010.,  170.],\n",
       "       [  20., 1010.,  160.],\n",
       "       [  30., 1010.,  150.],\n",
       "       [  40., 1013.,  140.],\n",
       "       [  50., 1013.,  130.],\n",
       "       [  60., 1013.,  120.]])"
      ]
     },
     "execution_count": 3,
     "metadata": {},
     "output_type": "execute_result"
    }
   ],
   "source": [
    "X = np.hstack((X1, X2))\n",
    "D = np.hstack((X, Y))\n",
    "D"
   ]
  },
  {
   "cell_type": "markdown",
   "metadata": {},
   "source": [
    "Use these variables for answering the questions (iii) - (v) from Example 3.3): \n",
    "\n",
    "- (iii) What is the data record number 2? \n",
    "- (iv) What is the first feature? \n",
    "- (v) What is the input record number 3?\n",
    "\n",
    "Note that Python is 0-based, i.e., the first element has the index 0!"
   ]
  },
  {
   "cell_type": "code",
   "execution_count": 4,
   "metadata": {},
   "outputs": [
    {
     "name": "stdout",
     "output_type": "stream",
     "text": [
      "(iii) P(2) = [  10. 1010.  170.]\n",
      "(iv)  X1   = [ 0. 10. 20. 30. 40. 50. 60.]\n",
      "(v)   x_3  = [  20. 1010.]\n"
     ]
    }
   ],
   "source": [
    "print(\"(iii) P(2) =\", D[1])\n",
    "print(\"(iv)  X1   =\", X[:, 0])\n",
    "print(\"(v)   x_3  =\", X[2])"
   ]
  }
 ],
 "metadata": {
  "kernelspec": {
   "display_name": "MDSbook",
   "language": "python",
   "name": "python3"
  },
  "language_info": {
   "codemirror_mode": {
    "name": "ipython",
    "version": 3
   },
   "file_extension": ".py",
   "mimetype": "text/x-python",
   "name": "python",
   "nbconvert_exporter": "python",
   "pygments_lexer": "ipython3",
   "version": "3.9.5"
  }
 },
 "nbformat": 4,
 "nbformat_minor": 2
}
