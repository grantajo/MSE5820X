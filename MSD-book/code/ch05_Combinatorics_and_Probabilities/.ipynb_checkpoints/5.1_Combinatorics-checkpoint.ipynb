{
 "cells": [
  {
   "cell_type": "markdown",
   "metadata": {},
   "source": [
    "<div class=\"alert alert-block alert-success\">\n",
    "This jupyter notebook is part of the supplementary material for the book \"Materials Data Science\" (Stefan Sandfeld, Springer, 2024, DOI 10.1007/978-3-031-46565-9). For further details please refer to the accompanying webpage at <a href=\"https://mds-book.org\">https://mds-book.org</a>.\n",
    "</div>"
   ]
  },
  {
   "cell_type": "markdown",
   "metadata": {},
   "source": [
    "## 5.1 Combinatorics\n",
    "\n",
    "### 5.1.4 Permutations -- Ordered Sets Without Replacement\n",
    "What are the permutations of the three letters A, B, and C?"
   ]
  },
  {
   "cell_type": "code",
   "execution_count": 40,
   "metadata": {},
   "outputs": [],
   "source": [
    "all_items = ['A', 'B', 'C']"
   ]
  },
  {
   "cell_type": "code",
   "execution_count": 41,
   "metadata": {},
   "outputs": [],
   "source": [
    "perms = []\n",
    "for a in all_items:\n",
    "    for b in all_items:\n",
    "        if a == b:\n",
    "            continue # skip the rest of this loop iteration\n",
    "        for c in all_items:\n",
    "            if c in [a, b]:\n",
    "                continue\n",
    "            perms.append((a, b, c))"
   ]
  },
  {
   "cell_type": "code",
   "execution_count": 42,
   "metadata": {},
   "outputs": [
    {
     "name": "stdout",
     "output_type": "stream",
     "text": [
      "('A', 'B', 'C')\n",
      "('A', 'C', 'B')\n",
      "('B', 'A', 'C')\n",
      "('B', 'C', 'A')\n",
      "('C', 'A', 'B')\n",
      "('C', 'B', 'A')\n"
     ]
    }
   ],
   "source": [
    "for p in perms:\n",
    "    print(p)"
   ]
  },
  {
   "cell_type": "markdown",
   "metadata": {},
   "source": [
    "Nested `for`-loops are nice because they are explicit about what is done; nested `for`-loops are NOT nice, because most of the time they are computationally inefficient. An alternative is the use of the package `ìtertools`:"
   ]
  },
  {
   "cell_type": "code",
   "execution_count": 43,
   "metadata": {},
   "outputs": [
    {
     "name": "stdout",
     "output_type": "stream",
     "text": [
      "('A', 'B', 'C')\n",
      "('A', 'C', 'B')\n",
      "('B', 'A', 'C')\n",
      "('B', 'C', 'A')\n",
      "('C', 'A', 'B')\n",
      "('C', 'B', 'A')\n"
     ]
    }
   ],
   "source": [
    "from itertools import permutations\n",
    "perms = permutations(['A', 'B', 'C'])\n",
    "\n",
    "for p in perms:\n",
    "    print(p)"
   ]
  },
  {
   "cell_type": "markdown",
   "metadata": {},
   "source": [
    "Note that itertools functions typically return so-called \"iterators\" over which one can iterate but which can not be indexed in the \"classical\" sense:"
   ]
  },
  {
   "cell_type": "code",
   "execution_count": 44,
   "metadata": {},
   "outputs": [
    {
     "data": {
      "text/plain": [
       "<itertools.permutations at 0x7fb5b41ae590>"
      ]
     },
     "execution_count": 44,
     "metadata": {},
     "output_type": "execute_result"
    }
   ],
   "source": [
    "perms"
   ]
  },
  {
   "cell_type": "markdown",
   "metadata": {},
   "source": [
    "If required, such an iterator also could be converted to a list:"
   ]
  },
  {
   "cell_type": "code",
   "execution_count": 45,
   "metadata": {},
   "outputs": [
    {
     "data": {
      "text/plain": [
       "[('A', 'B', 'C'),\n",
       " ('A', 'C', 'B'),\n",
       " ('B', 'A', 'C'),\n",
       " ('B', 'C', 'A'),\n",
       " ('C', 'A', 'B'),\n",
       " ('C', 'B', 'A')]"
      ]
     },
     "execution_count": 45,
     "metadata": {},
     "output_type": "execute_result"
    }
   ],
   "source": [
    "list(permutations(['A', 'B', 'C']))"
   ]
  },
  {
   "cell_type": "markdown",
   "metadata": {},
   "source": [
    "### 5.1.6 Permutations with Repetition—Ordered Sets/Samples With Replacement"
   ]
  },
  {
   "cell_type": "code",
   "execution_count": 46,
   "metadata": {},
   "outputs": [],
   "source": [
    "from itertools import product"
   ]
  },
  {
   "cell_type": "code",
   "execution_count": 47,
   "metadata": {},
   "outputs": [],
   "source": [
    "# parameter 'repeat' defines the number of samples drawn from ['A', 'B', 'C']\n",
    "prod = product(['A', 'B', 'C'], repeat=3)"
   ]
  },
  {
   "cell_type": "code",
   "execution_count": 48,
   "metadata": {},
   "outputs": [
    {
     "name": "stdout",
     "output_type": "stream",
     "text": [
      "1 :  ('A', 'A', 'A')\n",
      "2 :  ('A', 'A', 'B')\n",
      "3 :  ('A', 'A', 'C')\n",
      "4 :  ('A', 'B', 'A')\n",
      "5 :  ('A', 'B', 'B')\n",
      "6 :  ('A', 'B', 'C')\n",
      "7 :  ('A', 'C', 'A')\n",
      "8 :  ('A', 'C', 'B')\n",
      "9 :  ('A', 'C', 'C')\n",
      "10 :  ('B', 'A', 'A')\n",
      "11 :  ('B', 'A', 'B')\n",
      "12 :  ('B', 'A', 'C')\n",
      "13 :  ('B', 'B', 'A')\n",
      "14 :  ('B', 'B', 'B')\n",
      "15 :  ('B', 'B', 'C')\n",
      "16 :  ('B', 'C', 'A')\n",
      "17 :  ('B', 'C', 'B')\n",
      "18 :  ('B', 'C', 'C')\n",
      "19 :  ('C', 'A', 'A')\n",
      "20 :  ('C', 'A', 'B')\n",
      "21 :  ('C', 'A', 'C')\n",
      "22 :  ('C', 'B', 'A')\n",
      "23 :  ('C', 'B', 'B')\n",
      "24 :  ('C', 'B', 'C')\n",
      "25 :  ('C', 'C', 'A')\n",
      "26 :  ('C', 'C', 'B')\n",
      "27 :  ('C', 'C', 'C')\n"
     ]
    }
   ],
   "source": [
    "# As `product` returns an iterator, we can't just use `print` but have to\n",
    "# use a for-loop to *iterate* over all elements (or here: all tuples):\n",
    "i = 1\n",
    "for p in prod:\n",
    "    print(i, \": \", p)\n",
    "    i += 1"
   ]
  },
  {
   "cell_type": "markdown",
   "metadata": {},
   "source": [
    "### 5.1.7 Combinations Without Replacement -- Unordered Sets/Samples Without Replacement\n",
    "\n",
    "<div class=\"alert alert-block alert-info\">\n",
    "<b>Combinations without replacement:</b>\n",
    "The number of combinations without replacement is given by\n",
    "\n",
    "\\begin{align*}\n",
    "\tC_{n, k}=\\frac{P_{n, k}}{k!} = \\frac{n!}{k!(n-k)!} \n",
    "\\end{align*}\n",
    "</div>\n",
    "\n",
    "Using `itertools` we can not only count the number of combinations but also directly obtain them:"
   ]
  },
  {
   "cell_type": "code",
   "execution_count": 49,
   "metadata": {},
   "outputs": [],
   "source": [
    "from itertools import combinations"
   ]
  },
  {
   "cell_type": "code",
   "execution_count": 50,
   "metadata": {},
   "outputs": [
    {
     "name": "stdout",
     "output_type": "stream",
     "text": [
      "('A', 'B')\n",
      "('A', 'C')\n",
      "('A', 'D')\n",
      "('B', 'C')\n",
      "('B', 'D')\n",
      "('C', 'D')\n"
     ]
    }
   ],
   "source": [
    "for c in combinations('ABCD', 2):\n",
    "    print(c)"
   ]
  },
  {
   "cell_type": "code",
   "execution_count": 51,
   "metadata": {},
   "outputs": [
    {
     "data": {
      "text/plain": [
       "6"
      ]
     },
     "execution_count": 51,
     "metadata": {},
     "output_type": "execute_result"
    }
   ],
   "source": [
    "len(list(combinations('ABCD', 2)))"
   ]
  },
  {
   "cell_type": "markdown",
   "metadata": {},
   "source": [
    "The above euqation is known as the binomial coefficient. In Python it can be computed as:"
   ]
  },
  {
   "cell_type": "code",
   "execution_count": 52,
   "metadata": {},
   "outputs": [
    {
     "data": {
      "text/plain": [
       "6"
      ]
     },
     "execution_count": 52,
     "metadata": {},
     "output_type": "execute_result"
    }
   ],
   "source": [
    "from math import factorial\n",
    "\n",
    "n, k = 4, 2\n",
    "factorial(n) // ((factorial(n-k)) * factorial(k))"
   ]
  },
  {
   "cell_type": "markdown",
   "metadata": {},
   "source": [
    "### 5.1.8 Combinations With Replacement—Unordered Sets/Samples With Replacement\n",
    "<div class=\"alert alert-block alert-info\">\n",
    "<b>Combinations with replacement:</b>\n",
    "The number of combinations <em>with</em> replacement is given by\n",
    "\n",
    "\\begin{align*}\n",
    "\tC^\\prime_{n, k} = \\frac{(n+k-1)!}{(n-1)!\\cdot k!} = \\left(\\begin{array}{c}n+k-1\\\\k\\end{array}\\right)\n",
    "\\end{align*}\n",
    "</div>\n",
    "\n"
   ]
  },
  {
   "cell_type": "code",
   "execution_count": 53,
   "metadata": {},
   "outputs": [],
   "source": [
    "from itertools import combinations_with_replacement"
   ]
  },
  {
   "cell_type": "code",
   "execution_count": 54,
   "metadata": {},
   "outputs": [
    {
     "name": "stdout",
     "output_type": "stream",
     "text": [
      "(1, 1, 1)\n",
      "(1, 1, 2)\n",
      "(1, 1, 3)\n",
      "(1, 1, 4)\n",
      "(1, 1, 5)\n",
      "(1, 1, 6)\n",
      "(1, 2, 2)\n",
      "(1, 2, 3)\n",
      "(1, 2, 4)\n",
      "(1, 2, 5)\n",
      "(1, 2, 6)\n",
      "(1, 3, 3)\n",
      "(1, 3, 4)\n",
      "(1, 3, 5)\n",
      "(1, 3, 6)\n",
      "(1, 4, 4)\n",
      "(1, 4, 5)\n",
      "(1, 4, 6)\n",
      "(1, 5, 5)\n",
      "(1, 5, 6)\n",
      "(1, 6, 6)\n",
      "(2, 2, 2)\n",
      "(2, 2, 3)\n",
      "(2, 2, 4)\n",
      "(2, 2, 5)\n",
      "(2, 2, 6)\n",
      "(2, 3, 3)\n",
      "(2, 3, 4)\n",
      "(2, 3, 5)\n",
      "(2, 3, 6)\n",
      "(2, 4, 4)\n",
      "(2, 4, 5)\n",
      "(2, 4, 6)\n",
      "(2, 5, 5)\n",
      "(2, 5, 6)\n",
      "(2, 6, 6)\n",
      "(3, 3, 3)\n",
      "(3, 3, 4)\n",
      "(3, 3, 5)\n",
      "(3, 3, 6)\n",
      "(3, 4, 4)\n",
      "(3, 4, 5)\n",
      "(3, 4, 6)\n",
      "(3, 5, 5)\n",
      "(3, 5, 6)\n",
      "(3, 6, 6)\n",
      "(4, 4, 4)\n",
      "(4, 4, 5)\n",
      "(4, 4, 6)\n",
      "(4, 5, 5)\n",
      "(4, 5, 6)\n",
      "(4, 6, 6)\n",
      "(5, 5, 5)\n",
      "(5, 5, 6)\n",
      "(5, 6, 6)\n",
      "(6, 6, 6)\n"
     ]
    }
   ],
   "source": [
    "comb = combinations_with_replacement([1, 2, 3, 4, 5, 6], 3)\n",
    "\n",
    "for c in comb:\n",
    "    print(c)"
   ]
  }
 ],
 "metadata": {
  "kernelspec": {
   "display_name": "Python 3 (Spyder)",
   "language": "python3",
   "name": "python3"
  },
  "language_info": {
   "codemirror_mode": {
    "name": "ipython",
    "version": 3
   },
   "file_extension": ".py",
   "mimetype": "text/x-python",
   "name": "python",
   "nbconvert_exporter": "python",
   "pygments_lexer": "ipython3",
   "version": "3.12.3"
  }
 },
 "nbformat": 4,
 "nbformat_minor": 4
}
