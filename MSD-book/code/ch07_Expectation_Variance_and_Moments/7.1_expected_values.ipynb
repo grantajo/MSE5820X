{
 "cells": [
  {
   "cell_type": "markdown",
   "metadata": {},
   "source": [
    "This jupyter notebook is part of the supplementary material for the book \"Materials Data Science\" (Stefan Sandfeld, Springer, 2024, DOI 10.1007/978-3-031-46565-9). For further details please refer to the accompanying webpage https://mds-book.org."
   ]
  },
  {
   "cell_type": "markdown",
   "metadata": {},
   "source": [
    "## 6.1 Expected Values of Discrete Random Variables\n",
    "\n",
    "### Example 7.2: Expected Value of a Product\n",
    "\n",
    "A simple example is to throw a 6-sided die and additionally to flip a coin.\n",
    "Let us furthermore map the resulting symbols by the two random variables $X$ and $Y$ as follows:\n",
    "\n",
    "<img src=\"img/ex7.2.png\" alt=\"ex7.2\" />\n",
    "\n",
    "\n",
    "The values $x_i$ and $y_i$ are chosen arbitrarily.\n",
    "Then, the expected values for the two variables are $\\mathrm{E}[X]=3.5$ and \n",
    "$\\mathrm{E}[Y]=7.5$. Altogether, there are $2\\times 6=12$ outcomes with equal \n",
    "likelihood. \n",
    "\n",
    "Instead of computing the terms and products manually, we can use the \n",
    "following Python code. We start by setting up two dictionaries (our \n",
    "\"maps\"):\n",
    "\t"
   ]
  },
  {
   "cell_type": "code",
   "execution_count": 7,
   "metadata": {},
   "outputs": [
    {
     "name": "stdout",
     "output_type": "stream",
     "text": [
      "X = {'H': 3, 'T': 4} \n",
      "Y = {1: 5, 2: 6, 3: 7, 4: 8, 5: 9, 6: 10}\n"
     ]
    }
   ],
   "source": [
    "X = {'H': 3, 'T': 4}\n",
    "Y = {i: i+4 for i in range(1, 7)}\n",
    "print('X =', X, '\\nY =', Y)"
   ]
  },
  {
   "cell_type": "markdown",
   "metadata": {},
   "source": [
    "Next, create pairs of the results from the coin and the die using a Cartesian product.\n",
    "Summing up the $x_iy_j$ and dividing by the total number of combinations gives $\\mathrm{E}[X\\cdot Y]$:"
   ]
  },
  {
   "cell_type": "code",
   "execution_count": 8,
   "metadata": {},
   "outputs": [
    {
     "name": "stdout",
     "output_type": "stream",
     "text": [
      "E_XY = 26.25\n"
     ]
    }
   ],
   "source": [
    "from itertools import product\n",
    "\n",
    "sum_XY = 0\n",
    "for x, y in product(X.values(), Y.values()):\n",
    "    sum_XY += x * y\n",
    "E_XY = sum_XY / (len(X) * len(Y))\n",
    "print(\"E_XY =\", E_XY)"
   ]
  },
  {
   "cell_type": "markdown",
   "metadata": {},
   "source": [
    "As an alternative we compute the expectation value for the individual random variables"
   ]
  },
  {
   "cell_type": "code",
   "execution_count": 9,
   "metadata": {},
   "outputs": [
    {
     "name": "stdout",
     "output_type": "stream",
     "text": [
      "E_X * E_Y = 26.25\n"
     ]
    }
   ],
   "source": [
    "E_X = sum(X.values()) / len(X)\n",
    "E_Y = sum(Y.values()) / len(Y)\n",
    "print(\"E_X * E_Y =\", E_X * E_Y)"
   ]
  },
  {
   "cell_type": "markdown",
   "metadata": {},
   "source": [
    "### Example 7.4: Implementation details in terms of linear algebra"
   ]
  },
  {
   "cell_type": "code",
   "execution_count": 10,
   "metadata": {},
   "outputs": [],
   "source": [
    "import numpy as np\n",
    "\n",
    "x = np.random.rand(5)\n",
    "o = np.ones_like(x)\n",
    "mean = o.dot(x) / o.dot(o)\n",
    "var = np.linalg.norm(x - mean * o) ** 2 / (o.dot(o))\n",
    "\n",
    "np.testing.assert_allclose(mean, x.mean())\n",
    "np.testing.assert_allclose(var, x.var())"
   ]
  },
  {
   "cell_type": "code",
   "execution_count": 11,
   "metadata": {},
   "outputs": [
    {
     "data": {
      "text/plain": [
       "0.5844200077348541"
      ]
     },
     "execution_count": 11,
     "metadata": {},
     "output_type": "execute_result"
    }
   ],
   "source": [
    "mean"
   ]
  },
  {
   "cell_type": "code",
   "execution_count": 12,
   "metadata": {},
   "outputs": [
    {
     "data": {
      "text/plain": [
       "0.5844200077348541"
      ]
     },
     "execution_count": 12,
     "metadata": {},
     "output_type": "execute_result"
    }
   ],
   "source": [
    "x.mean()"
   ]
  }
 ],
 "metadata": {
  "kernelspec": {
   "display_name": "MDSbook",
   "language": "python",
   "name": "python3"
  },
  "language_info": {
   "codemirror_mode": {
    "name": "ipython",
    "version": 3
   },
   "file_extension": ".py",
   "mimetype": "text/x-python",
   "name": "python",
   "nbconvert_exporter": "python",
   "pygments_lexer": "ipython3",
   "version": "3.9.5"
  }
 },
 "nbformat": 4,
 "nbformat_minor": 2
}
