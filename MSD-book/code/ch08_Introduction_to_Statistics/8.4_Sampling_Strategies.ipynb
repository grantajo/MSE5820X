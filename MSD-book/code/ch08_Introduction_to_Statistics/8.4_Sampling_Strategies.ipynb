{
 "cells": [
  {
   "cell_type": "markdown",
   "metadata": {},
   "source": [
    "This jupyter notebook is part of the supplementary material for the book \"Materials Data Science\" (Stefan Sandfeld, Springer, 2024, DOI 10.1007/978-3-031-46565-9). For further details please refer to the accompanying webpage https://mds-book.org."
   ]
  },
  {
   "cell_type": "markdown",
   "metadata": {},
   "source": [
    "## 8.4 Sampling Strategies\n",
    "\n",
    "### 8.4.1 Simple Random Sampling\n",
    "The easiest approach for sampling is simple random sampling (SRS). It is a method that\n",
    "is based on assigning the same probability to each item that could be chosen during\n",
    "sampling. Then, the items contained in the sample are chosen without replacement\n",
    "(also see Chapter 6).\n",
    "\n",
    "Here is an example where we compute the mean value of a population and a\n",
    "random sample. We start by importing numpy and creating a population that consists\n",
    "of the numbers from 1 to 99:"
   ]
  },
  {
   "cell_type": "code",
   "execution_count": 12,
   "metadata": {},
   "outputs": [
    {
     "data": {
      "text/plain": [
       "50.0"
      ]
     },
     "execution_count": 12,
     "metadata": {},
     "output_type": "execute_result"
    }
   ],
   "source": [
    "import numpy as np\n",
    "population = np.arange(1, 100)\n",
    "population.sum() / population.size"
   ]
  },
  {
   "cell_type": "markdown",
   "metadata": {},
   "source": [
    "Next, a random number generator rng is created. It comes with the convenient\n",
    "method choice which chooses from the given population a number of items (here:\n",
    "10) without replacement:"
   ]
  },
  {
   "cell_type": "code",
   "execution_count": 13,
   "metadata": {},
   "outputs": [
    {
     "data": {
      "text/plain": [
       "array([ 7, 36, 89, 42,  3,  4, 83, 63, 34, 91])"
      ]
     },
     "execution_count": 13,
     "metadata": {},
     "output_type": "execute_result"
    }
   ],
   "source": [
    "rng = np.random.default_rng()\n",
    "sample = rng.choice(population, size=10, replace=False)\n",
    "sample"
   ]
  },
  {
   "cell_type": "markdown",
   "metadata": {},
   "source": [
    "Now, we can also compute the mean value of the sample which is close to the true value of 50:"
   ]
  },
  {
   "cell_type": "code",
   "execution_count": 14,
   "metadata": {},
   "outputs": [
    {
     "data": {
      "text/plain": [
       "45.2"
      ]
     },
     "execution_count": 14,
     "metadata": {},
     "output_type": "execute_result"
    }
   ],
   "source": [
    "sample.sum() / sample.size"
   ]
  },
  {
   "cell_type": "markdown",
   "metadata": {},
   "source": [
    "If more than one sample is to be created then each sample is chosen independently\n",
    "from the other samples, i.e., for each sample items are chosen from the full set of\n",
    "items. Thus, the same item can occur in more than one sample, but no more than\n",
    "once in a single sample. Thus, based on the above code we could create three samples\n",
    "s1 , s2 , and s3 by"
   ]
  },
  {
   "cell_type": "code",
   "execution_count": 15,
   "metadata": {},
   "outputs": [
    {
     "name": "stdout",
     "output_type": "stream",
     "text": [
      "mean values: 35.4 56.7 66.3\n"
     ]
    }
   ],
   "source": [
    "n = 10\n",
    "s1 = rng.choice(population, size=n, replace=False)\n",
    "s2 = rng.choice(population, size=n, replace=False)\n",
    "s3 = rng.choice(population, size=n, replace=False)\n",
    "print(\"mean values:\", s1.sum() / n, s2.sum() / n, s3.sum() / n)"
   ]
  },
  {
   "cell_type": "markdown",
   "metadata": {},
   "source": [
    "Each of the three samples has its own mean value; each of these mean values is an estimate of the population mean."
   ]
  },
  {
   "cell_type": "markdown",
   "metadata": {},
   "source": [
    "### 8.4.2 Systematic Sampling\n",
    "\n",
    "Systematic sampling or linear sampling is a very simple methodology where from an\n",
    "ordered list of 𝑁 elements the first sample is chosen randomly. Subsequently, every\n",
    "𝑘-th element is chosen. After the end of the list was reached, one can return to the\n",
    "beginning of the list."
   ]
  },
  {
   "cell_type": "code",
   "execution_count": 16,
   "metadata": {},
   "outputs": [
    {
     "data": {
      "text/plain": [
       "array([ 0,  1,  2,  3,  4,  5,  6,  7,  8,  9, 10, 11, 12, 13, 14, 15, 16,\n",
       "       17, 18, 19, 20, 21, 22, 23, 24,  0,  1,  2,  3,  4,  5,  6,  7,  8,\n",
       "        9, 10, 11, 12, 13, 14, 15, 16, 17, 18, 19, 20, 21, 22, 23, 24])"
      ]
     },
     "execution_count": 16,
     "metadata": {},
     "output_type": "execute_result"
    }
   ],
   "source": [
    "import numpy as np\n",
    "rng = np.random.default_rng()\n",
    "\n",
    "N = 25\n",
    "population = np.array(2 * list(range(N)))  # copy the list so that it starts again after element 24\n",
    "population"
   ]
  },
  {
   "cell_type": "markdown",
   "metadata": {},
   "source": [
    "... compute the sampling interval (see the MDS book for more explanations):"
   ]
  },
  {
   "cell_type": "code",
   "execution_count": 17,
   "metadata": {},
   "outputs": [
    {
     "data": {
      "text/plain": [
       "4"
      ]
     },
     "execution_count": 17,
     "metadata": {},
     "output_type": "execute_result"
    }
   ],
   "source": [
    "n = 6\n",
    "k = int(N / n)\n",
    "k"
   ]
  },
  {
   "cell_type": "markdown",
   "metadata": {},
   "source": [
    "... and pick elements starting from start every $k$ elements; the second square bracket\n",
    "chooses only the first n elements."
   ]
  },
  {
   "cell_type": "code",
   "execution_count": 18,
   "metadata": {},
   "outputs": [
    {
     "data": {
      "text/plain": [
       "array([ 4,  8, 12, 16, 20, 24])"
      ]
     },
     "execution_count": 18,
     "metadata": {},
     "output_type": "execute_result"
    }
   ],
   "source": [
    "start = rng.integers(0, N)\n",
    "population[start::k][:n]"
   ]
  },
  {
   "cell_type": "markdown",
   "metadata": {},
   "source": [
    "### 8.4.5 Stratified Sampling\n",
    "\n",
    "Stratification denotes the process of splitting the whole population into “subpopulations”, the so-called strata (plural of stratum). The partitioning has to be non-overlapping, i.e., each element is exactly in one of the strata. Subsequently, simple random sampling (Section 8.4.1) can be employed, which has to be done for all strata.\n",
    "\n",
    "We start by creating a population:"
   ]
  },
  {
   "cell_type": "code",
   "execution_count": 19,
   "metadata": {},
   "outputs": [
    {
     "data": {
      "text/plain": [
       "array([ 0,  1,  2,  3,  4,  5,  6,  7,  8,  9, 10, 11, 12, 13, 14, 15, 16,\n",
       "       17, 18, 19, 20, 21, 22, 23, 24])"
      ]
     },
     "execution_count": 19,
     "metadata": {},
     "output_type": "execute_result"
    }
   ],
   "source": [
    "import numpy as np\n",
    "rng = np.random.default_rng()\n",
    "N = 25\n",
    "population = np.arange(N)\n",
    "population"
   ]
  },
  {
   "cell_type": "markdown",
   "metadata": {},
   "source": [
    "This is then split into four strata:"
   ]
  },
  {
   "cell_type": "code",
   "execution_count": 20,
   "metadata": {},
   "outputs": [
    {
     "data": {
      "text/plain": [
       "[array([0, 1, 2, 3, 4, 5, 6]),\n",
       " array([ 7,  8,  9, 10, 11, 12]),\n",
       " array([13, 14, 15, 16, 17, 18]),\n",
       " array([19, 20, 21, 22, 23, 24])]"
      ]
     },
     "execution_count": 20,
     "metadata": {},
     "output_type": "execute_result"
    }
   ],
   "source": [
    "strata = np.array_split(population, 4)\n",
    "strata"
   ]
  },
  {
   "cell_type": "markdown",
   "metadata": {},
   "source": [
    "In a compact approach we create a list of all random samples from each strata:"
   ]
  },
  {
   "cell_type": "code",
   "execution_count": 21,
   "metadata": {},
   "outputs": [
    {
     "data": {
      "text/plain": [
       "array([ 2,  0,  8,  9, 13, 14, 22, 20])"
      ]
     },
     "execution_count": 21,
     "metadata": {},
     "output_type": "execute_result"
    }
   ],
   "source": [
    "s = [rng.choice(stratum, size=2, replace=False) for stratum in strata]\n",
    "sample = np.concatenate(s)\n",
    "sample"
   ]
  },
  {
   "cell_type": "markdown",
   "metadata": {},
   "source": [
    "This “inline for loop” is called list comprehension and adds for each element of the\n",
    "for loop the result of rng.choice to the list."
   ]
  }
 ],
 "metadata": {
  "kernelspec": {
   "display_name": "MDSbook",
   "language": "python",
   "name": "python3"
  },
  "language_info": {
   "codemirror_mode": {
    "name": "ipython",
    "version": 3
   },
   "file_extension": ".py",
   "mimetype": "text/x-python",
   "name": "python",
   "nbconvert_exporter": "python",
   "pygments_lexer": "ipython3",
   "version": "3.9.5"
  }
 },
 "nbformat": 4,
 "nbformat_minor": 2
}
