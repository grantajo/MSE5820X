{
 "cells": [
  {
   "cell_type": "markdown",
   "metadata": {},
   "source": [
    "<div class=\"alert alert-block alert-success\">\n",
    "This jupyter notebook is part of the supplementary material for the book \"Materials Data Science\" (Stefan Sandfeld, Springer, 2024, DOI 10.1007/978-3-031-46565-9). For further details please refer to the accompanying webpage at <a href=\"https://mds-book.org\">https://mds-book.org</a>.\n",
    "</div>"
   ]
  },
  {
   "cell_type": "code",
   "execution_count": 9,
   "metadata": {},
   "outputs": [],
   "source": [
    "import matplotlib.pyplot as plt\n",
    "import numpy as np"
   ]
  },
  {
   "cell_type": "markdown",
   "metadata": {},
   "source": [
    "## 11.8 Similarity Measures for Classification Problems\n",
    "### 11.8.1 From True Positives to False Negatives\n",
    "Compute the number of true positives (TP), true negatives (TN), false positives (FP), and false negatives (FN):"
   ]
  },
  {
   "cell_type": "code",
   "execution_count": 10,
   "metadata": {},
   "outputs": [],
   "source": [
    "import numpy as np\n",
    "Y_pred = np.array([0, 0, 0, 1, 0, 1, 1, 1, 0, 0, 1, 0], dtype=int)\n",
    "Y_true = np.array([0, 0, 1, 1, 0, 0, 1, 1, 0, 1, 1, 0], dtype=int)"
   ]
  },
  {
   "cell_type": "markdown",
   "metadata": {},
   "source": [
    "As we are going to compare the arrays element-by-element, there is one important\n",
    "aspect to consider: comparison between numbers using the equal sign, such as\n",
    "Y_pred == 1, should be done only for integer numbers: hence the dtype=int above."
   ]
  },
  {
   "cell_type": "code",
   "execution_count": 11,
   "metadata": {},
   "outputs": [
    {
     "name": "stdout",
     "output_type": "stream",
     "text": [
      "TP: 4, FP: 1, TN: 5, FN: 2\n"
     ]
    }
   ],
   "source": [
    "TP = np.sum((Y_pred == 1) & (Y_true == 1))\n",
    "TN = np.sum((Y_pred == 0) & (Y_true == 0))\n",
    "FP = np.sum((Y_pred == 1) & (Y_true == 0))\n",
    "FN = np.sum((Y_pred == 0) & (Y_true == 1))\n",
    "print(f'TP: {TP}, FP: {FP}, TN: {TN}, FN: {FN}')"
   ]
  },
  {
   "cell_type": "markdown",
   "metadata": {},
   "source": [
    "### 11.8.2 The Jaccard Similarity—or: Intersection over Union"
   ]
  },
  {
   "cell_type": "code",
   "execution_count": 12,
   "metadata": {},
   "outputs": [
    {
     "data": {
      "text/plain": [
       "0.5714285714285714"
      ]
     },
     "execution_count": 12,
     "metadata": {},
     "output_type": "execute_result"
    }
   ],
   "source": [
    "IOU = TP / (TP + FP + FN)\n",
    "IOU"
   ]
  },
  {
   "cell_type": "markdown",
   "metadata": {},
   "source": [
    "### 11.8.3 The Dice Coefficient"
   ]
  },
  {
   "cell_type": "code",
   "execution_count": 13,
   "metadata": {},
   "outputs": [
    {
     "data": {
      "text/plain": [
       "0.7272727272727273"
      ]
     },
     "execution_count": 13,
     "metadata": {},
     "output_type": "execute_result"
    }
   ],
   "source": [
    "DICE = 2 * TP / (2 * TP + FP + FN)\n",
    "DICE"
   ]
  },
  {
   "cell_type": "markdown",
   "metadata": {},
   "source": [
    "### 11.8.4 Precision and Recall"
   ]
  },
  {
   "cell_type": "code",
   "execution_count": 14,
   "metadata": {},
   "outputs": [
    {
     "data": {
      "text/plain": [
       "0.8"
      ]
     },
     "execution_count": 14,
     "metadata": {},
     "output_type": "execute_result"
    }
   ],
   "source": [
    "Precision = TP / (TP + FP)\n",
    "Precision"
   ]
  },
  {
   "cell_type": "code",
   "execution_count": 15,
   "metadata": {},
   "outputs": [
    {
     "data": {
      "text/plain": [
       "0.6666666666666666"
      ]
     },
     "execution_count": 15,
     "metadata": {},
     "output_type": "execute_result"
    }
   ],
   "source": [
    "Recall = TP / (TP + FN)\n",
    "Recall"
   ]
  }
 ],
 "metadata": {
  "kernelspec": {
   "display_name": "MDSbook",
   "language": "python",
   "name": "python3"
  },
  "language_info": {
   "codemirror_mode": {
    "name": "ipython",
    "version": 3
   },
   "file_extension": ".py",
   "mimetype": "text/x-python",
   "name": "python",
   "nbconvert_exporter": "python",
   "pygments_lexer": "ipython3",
   "version": "3.9.5"
  }
 },
 "nbformat": 4,
 "nbformat_minor": 2
}
