{
 "cells": [
  {
   "cell_type": "markdown",
   "metadata": {},
   "source": [
    "<div class=\"alert alert-block alert-success\">\n",
    "This jupyter notebook is part of the supplementary material for the book \"Materials Data Science\" (Stefan Sandfeld, Springer, 2024, DOI 10.1007/978-3-031-46565-9). For further details please refer to the accompanying webpage at <a href=\"https://mds-book.org\">https://mds-book.org</a>.\n",
    "</div>"
   ]
  },
  {
   "cell_type": "code",
   "execution_count": 5,
   "metadata": {},
   "outputs": [],
   "source": [
    "import matplotlib.pyplot as plt\n",
    "from matplotlib import cm\n",
    "\n",
    "import numpy as np\n",
    "import ipywidgets as widgets\n",
    "from IPython.display import display"
   ]
  },
  {
   "cell_type": "markdown",
   "metadata": {},
   "source": [
    "### Interactive version of Fig. 12.10\n",
    "Here, the value of w0 is fixed (compare the function `update_plot` below).\n",
    "Try out to find the best-fitting inclination (w1) and compare the value with the closed form solution below."
   ]
  },
  {
   "cell_type": "code",
   "execution_count": 6,
   "metadata": {},
   "outputs": [],
   "source": [
    "X_training = np.array([[-1.889], [-1.842], [-1.741], [-1.660], [-1.593], [-1.527], [-1.451], [-1.352], [-1.299], [-1.225], [-1.125], [-1.037], [-0.998], [-0.901], [-0.812], [-0.743], [-0.662], [-0.602], [-0.501], [-0.432], [-0.362], [-0.301], [-0.215], [-0.126], [-0.059], [0.018], [0.102], [0.174], [0.257], [0.332], [0.416], [0.482], [0.574], [0.628], [0.696], [0.781], [0.850], [0.955], [1.001], [1.101], [1.174], [1.262], [1.314], [1.417], [1.474], [1.567], [1.625], [1.725], [1.780], [1.851], [1.936], [2.001], [2.107], [2.157], [2.243], [2.342], [2.421], [2.477], [2.568], [2.622], [2.713], [2.801], [2.864], [2.943], [2.998], [3.087], [3.153], [3.239], [3.317], [3.411], ], dtype=float)\n",
    "y_training = np.array([-1.555, -1.994, -1.574, -2.310, -1.295, -2.177, -1.523, -1.524, -1.772, -0.264, -1.601, -1.130, -0.860, -1.737, -0.669, -1.221, -0.726, -1.467, -1.462, -0.532, -0.780, -0.895, -0.651, -0.652, -1.291, -1.676, -1.422, -1.428, -1.559, -0.893, -0.803, -0.575, -0.427, -0.640, -0.554, -0.380, -0.774, -0.608, -0.285, -0.521, -0.442, -0.211, 0.391, 0.036, -0.198, -0.251, -0.033, 0.959, -1.169, 0.339, 0.261, 0.548, -0.206, 1.124, 0.722, 0.350, 0.474, 0.152, 0.504, 0.454, 0.934, 0.744, 0.598, 0.942, 0.921, 0.833, 0.165, 1.231, 0.392, 0.502], dtype=float)\n",
    "X_training = X_training.ravel()\n",
    "z = np.polyfit(X_training, y_training, deg=1)\n",
    "polynomial_model = np.poly1d(z)\n",
    "\n",
    "\n",
    "def loss(X_training, y_training, w0, w1):\n",
    "    error = np.mean((y_training - (w0 + w1 * X_training)) ** 2)\n",
    "    return error"
   ]
  },
  {
   "cell_type": "code",
   "execution_count": 7,
   "metadata": {},
   "outputs": [
    {
     "data": {
      "application/vnd.jupyter.widget-view+json": {
       "model_id": "0a025c5e0e8045e4b619df30ddb75a5b",
       "version_major": 2,
       "version_minor": 0
      },
      "text/plain": [
       "interactive(children=(FloatSlider(value=0.0, description='slope w1', max=1.5, min=-1.0, step=0.02), Output()),…"
      ]
     },
     "metadata": {},
     "output_type": "display_data"
    }
   ],
   "source": [
    "def update_plot(w1):\n",
    "    w0 = -0.6\n",
    "\n",
    "    fig, ax = plt.subplots(ncols=2, figsize=(9, 3.), gridspec_kw={'wspace': 0.3})\n",
    "    x_fit = np.linspace(-2.1, 3.6, 150)\n",
    "    ax[0].plot(X_training, y_training, 'o', c='C0', alpha=0.6, mfc='1')\n",
    "    ax[0].plot(x_fit, w0 + w1 * x_fit, '-', c='C3', label=f\"$w_0={w0:.2f}$, $w_1={w1:.2f}$\")\n",
    "    ax[0].legend(loc='upper left')\n",
    "    ax[0].set(xlabel='feature $X$', ylabel='target $Y$', \n",
    "              xlim=(x_fit[0], x_fit[-1]), ylim=(-2.5, 2), \n",
    "              title='data and fitted line')\n",
    "\n",
    "    # right plot\n",
    "    weights = np.linspace(-0.5, 1.5)\n",
    "    losses = [loss(X_training, y_training, w0, w) for w in weights]\n",
    "    ax[1].plot(weights, losses, ls='--', c='0.5')\n",
    "    ax[1].plot(w1, loss(X_training, y_training, w0, w1), mec='0.6', mew=0.6, marker='o', \n",
    "                lw=0, ms=6, mfc='C3', zorder=99, label=f\"$J(w_0={w0:.1f}$, $w_1={w1:.1f})$\")    \n",
    "    ax[1].legend(loc='upper center', labelspacing=0.3)\n",
    "    ax[1].set(xlim=(weights[0], weights[-1]), ylim=(-0.1, 3),\n",
    "              xlabel=r\"weight $w_1$\", ylabel=r\"cost ${J}(w_1)$\",\n",
    "              title='cost as a function of slope $w_1$')\n",
    "\n",
    "ui = widgets.interact(update_plot, w1 = widgets.FloatSlider(value=0, min=-1, max=1.5, step=0.02, description=\"slope w1\"))\n",
    "ui.widget.children[0].layout.width='440px'\n"
   ]
  },
  {
   "cell_type": "markdown",
   "metadata": {},
   "source": [
    "Compare this with the values obtained from the closed form solution:"
   ]
  },
  {
   "cell_type": "code",
   "execution_count": 8,
   "metadata": {},
   "outputs": [
    {
     "name": "stdout",
     "output_type": "stream",
     "text": [
      "w0 = -0.8579840292110691,     w1 = 0.512711796818629\n"
     ]
    }
   ],
   "source": [
    "w1 = (np.sum(X_training * y_training) - X_training.mean() * y_training.mean() * X_training.size) \\\n",
    "    / (np.sum(X_training ** 2) - X_training.size * X_training.mean() ** 2)\n",
    "w0 = -w1 * X_training.mean() + y_training.mean()\n",
    "print(f\"w0 = {w0},     w1 = {w1}\")"
   ]
  }
 ],
 "metadata": {
  "kernelspec": {
   "display_name": "MDSbook",
   "language": "python",
   "name": "python3"
  },
  "language_info": {
   "codemirror_mode": {
    "name": "ipython",
    "version": 3
   },
   "file_extension": ".py",
   "mimetype": "text/x-python",
   "name": "python",
   "nbconvert_exporter": "python",
   "pygments_lexer": "ipython3",
   "version": "3.9.5"
  }
 },
 "nbformat": 4,
 "nbformat_minor": 2
}
