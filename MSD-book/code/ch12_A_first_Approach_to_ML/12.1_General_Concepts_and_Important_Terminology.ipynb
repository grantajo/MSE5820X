{
 "cells": [
  {
   "cell_type": "markdown",
   "metadata": {},
   "source": [
    "<div class=\"alert alert-block alert-success\">\n",
    "This jupyter notebook is part of the supplementary material for the book \"Materials Data Science\" (Stefan Sandfeld, Springer, 2024, DOI 10.1007/978-3-031-46565-9). For further details please refer to the accompanying webpage at <a href=\"https://mds-book.org\">https://mds-book.org</a>.\n",
    "</div>"
   ]
  },
  {
   "cell_type": "code",
   "execution_count": 11,
   "metadata": {},
   "outputs": [],
   "source": [
    "import matplotlib.pyplot as plt\n",
    "import numpy as np"
   ]
  },
  {
   "cell_type": "markdown",
   "metadata": {},
   "source": [
    "### 12.2 General Concepts and Important Terminology\n",
    "### 12.2.1 Interpolation"
   ]
  },
  {
   "cell_type": "code",
   "execution_count": 12,
   "metadata": {},
   "outputs": [
    {
     "data": {
      "text/plain": [
       "array([2.        , 3.25397288, 4.15089663, 4.73538417, 5.0520484 ,\n",
       "       5.14550226, 5.06035865, 4.8412305 , 4.53273072, 4.17947223,\n",
       "       3.82606794, 3.51713078, 3.29727366, 3.21110949, 3.3032512 ,\n",
       "       3.61831171, 4.20090392, 5.09564076, 6.34713515, 8.        ])"
      ]
     },
     "execution_count": 12,
     "metadata": {},
     "output_type": "execute_result"
    }
   ],
   "source": [
    "from numpy import linspace\n",
    "from numpy.polynomial import Polynomial\n",
    "\n",
    "# support points\n",
    "x = [1, 3, 4, 7]\n",
    "y = [2, 5, 4, 8]\n",
    "\n",
    "# fit a polynomial of degree 3 to the given support points\n",
    "poly = Polynomial.fit(x, y, deg=3)\n",
    "\n",
    "# get 20 interpolated y-values in the interval [1, 7]\n",
    "x_interp = linspace(1, 7, 20)\n",
    "y_interp = poly(x_interp)\n",
    "y_interp"
   ]
  },
  {
   "cell_type": "code",
   "execution_count": 13,
   "metadata": {},
   "outputs": [
    {
     "data": {
      "text/plain": [
       "<matplotlib.legend.Legend at 0x7f5efd630220>"
      ]
     },
     "execution_count": 13,
     "metadata": {},
     "output_type": "execute_result"
    },
    {
     "data": {
      "image/png": "[encoded data removed]",
      "text/plain": [
       "<Figure size 640x480 with 1 Axes>"
      ]
     },
     "metadata": {},
     "output_type": "display_data"
    }
   ],
   "source": [
    "fig, ax = plt.subplots()\n",
    "ax.plot(x_interp, y_interp, ':', marker='.', label='interpolation')\n",
    "ax.scatter(x, y, c='k', s=50, label='support points')\n",
    "ax.legend(handlelength=4)"
   ]
  },
  {
   "cell_type": "markdown",
   "metadata": {},
   "source": []
  },
  {
   "cell_type": "markdown",
   "metadata": {},
   "source": [
    "### 12.2.10: Training and Testing: Data Sets and Errors Types\n",
    "#### The \"Train-Test Split\"\n",
    "\n",
    "Also see the folder `python_listings` which contains all numbered code listings from the MDS book."
   ]
  },
  {
   "cell_type": "code",
   "execution_count": 14,
   "metadata": {},
   "outputs": [],
   "source": [
    "def train_test_split(X, Y, fraction, seed=None):\n",
    "    \"\"\"\n",
    "        Returns a training and a testing dataset (Python Listing 12.1)\n",
    "        X and Y are numpy arrays with as many rows as samples, fraction (=0..1) defines\n",
    "        the relative amount of training data, and seed is the initialization of the\n",
    "        random number generator.\n",
    "    \"\"\"\n",
    "\n",
    "\n",
    "    rng = np.random.default_rng(seed)         # initialize random number generator\n",
    "    n_total_data = X.shape[0]                 # number of data in the full DS\n",
    "    n_training = int(fraction * n_total_data) # use fraction of data for training\n",
    "\n",
    "    indices = np.arange(n_total_data)         # range of integers for indexing X and Y\n",
    "    \n",
    "    rng.shuffle(indices)                      # shuffle elements of \"indices\" in place\n",
    "    X = X[indices]                            # X and y are shuffled such that each X[i]\n",
    "    Y = Y[indices]                            # ... is still associated with the same Y[i]\n",
    "\n",
    "    X_training = X[:n_training]               # use the first \"n_training\" points for the\n",
    "    Y_training = Y[:n_training]               # training dataset and ...\n",
    "    X_testing = X[n_training:]                # the rest of the data for testing.\n",
    "    Y_testing = Y[n_training:]\n",
    "    \n",
    "    return X_training, Y_training, X_testing, Y_testing"
   ]
  },
  {
   "cell_type": "code",
   "execution_count": 15,
   "metadata": {},
   "outputs": [],
   "source": [
    "import numpy as np\n",
    "fraction = 0.6     # fraction of training data from the whole dataset\n",
    "n_total_data = 10  # number of data in the full DS\n",
    "\n",
    "X = np.arange(n_total_data)       # input data\n",
    "Y = 10 + np.arange(n_total_data)  # output/target data"
   ]
  },
  {
   "cell_type": "code",
   "execution_count": 16,
   "metadata": {},
   "outputs": [],
   "source": [
    "X_train, Y_train, X_test, Y_test = train_test_split(X, Y, fraction)"
   ]
  },
  {
   "cell_type": "code",
   "execution_count": 17,
   "metadata": {},
   "outputs": [
    {
     "name": "stdout",
     "output_type": "stream",
     "text": [
      "X = [0 1 2 3 4 5 6 7 8 9]      Y = [10 11 12 13 14 15 16 17 18 19]\n",
      "X_train = [5 7 0 9 3 4]        Y_train = [15 17 10 19 13 14]\n",
      "X_test = [6 2 1 8]             Y_test = [16 12 11 18]\n"
     ]
    }
   ],
   "source": [
    "print('X =', X, '     Y =', Y)\n",
    "print('X_train =', X_train, '       Y_train =', Y_train)\n",
    "print('X_test =', X_test, '            Y_test =', Y_test)"
   ]
  },
  {
   "cell_type": "markdown",
   "metadata": {},
   "source": [
    "One can observe that the intersection of the training and the testing dataset is empty; furthermore, the union of these two datasets gives the original dataset."
   ]
  }
 ],
 "metadata": {
  "kernelspec": {
   "display_name": "MDSbook",
   "language": "python",
   "name": "python3"
  },
  "language_info": {
   "codemirror_mode": {
    "name": "ipython",
    "version": 3
   },
   "file_extension": ".py",
   "mimetype": "text/x-python",
   "name": "python",
   "nbconvert_exporter": "python",
   "pygments_lexer": "ipython3",
   "version": "3.9.5"
  }
 },
 "nbformat": 4,
 "nbformat_minor": 2
}
