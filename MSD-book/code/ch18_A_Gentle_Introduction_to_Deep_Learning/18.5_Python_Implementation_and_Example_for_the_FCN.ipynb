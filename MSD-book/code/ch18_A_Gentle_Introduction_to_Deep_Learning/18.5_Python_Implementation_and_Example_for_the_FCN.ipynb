{
 "cells": [
  {
   "cell_type": "markdown",
   "metadata": {},
   "source": [
    "<div class=\"alert alert-block alert-success\">\n",
    "This jupyter notebook is part of the supplementary material for the book \"Materials Data Science\" (Stefan Sandfeld, Springer, 2024, DOI 10.1007/978-3-031-46565-9). For further details please refer to the accompanying webpage at <a href=\"https://mds-book.org\">https://mds-book.org</a>.\n",
    "</div>"
   ]
  },
  {
   "cell_type": "code",
   "execution_count": 93,
   "metadata": {},
   "outputs": [],
   "source": [
    "import matplotlib.pyplot as plt\n",
    "import numpy as np\n",
    "\n",
    "\n",
    "# Copied from listing 12.1\n",
    "def train_test_split(X, Y, fraction, seed=None):\n",
    "    \"\"\"\n",
    "        Returns a training and a testing dataset (Python Listing 12.1)\n",
    "        X and Y are numpy arrays with as many rows as samples, fraction (=0..1) defines\n",
    "        the relative amount of training data, and seed is the initialization of the\n",
    "        random number generator.\n",
    "    \"\"\"\n",
    "\n",
    "\n",
    "    rng = np.random.default_rng(seed)         # initialize random number generator\n",
    "    n_total_data = X.shape[0]                 # number of data in the full DS\n",
    "    n_training = int(fraction * n_total_data) # use fraction of data for training\n",
    "\n",
    "    indices = np.arange(n_total_data)         # range of integers for indexing X and Y\n",
    "    \n",
    "    rng.shuffle(indices)                      # shuffle elements of \"indices\" in place\n",
    "    X = X[indices]                            # X and y are shuffled such that each X[i]\n",
    "    Y = Y[indices]                            # ... is still associated with the same Y[i]\n",
    "\n",
    "    X_training = X[:n_training]               # use the first \"n_training\" points for the\n",
    "    Y_training = Y[:n_training]               # training dataset and ...\n",
    "    X_testing = X[n_training:]                # the rest of the data for testing.\n",
    "    Y_testing = Y[n_training:]\n",
    "    \n",
    "    return X_training, Y_training, X_testing, Y_testing"
   ]
  },
  {
   "cell_type": "markdown",
   "metadata": {},
   "source": [
    "## 18.5 Python Implementation and Example for the Fully Connected Network\n",
    "### 18.5.1 Python Implementation\n",
    "A step-by-step explanation is given in section 18.5.1 of the MDS book.\n",
    "\n",
    "We start by creating an abstract base class from which both the activation layer and the fully connected layer are derived:"
   ]
  },
  {
   "cell_type": "code",
   "execution_count": 94,
   "metadata": {},
   "outputs": [],
   "source": [
    "from abc import ABC\n",
    "import numpy as np\n",
    "\n",
    "# For implementing an abstract base class (ABC)\n",
    "class NNLayer(ABC):\n",
    "    def __init__(self):\n",
    "        self.x = np.empty()\n",
    "        self.y = np.empty()\n",
    "\n",
    "    def feed_forward(self, x):\n",
    "        raise NotImplementedError(\"Any layer needs to implement the feed_forward method.\")\n",
    "    \n",
    "    def backward_propagation(self, dJdy, learning_rate):\n",
    "        raise NotImplementedError(\"Any layer needs to implement the backward_propagation method.\")"
   ]
  },
  {
   "cell_type": "markdown",
   "metadata": {},
   "source": [
    "Next, implement the class `FullyConnectedLayer` which is derived from `NNLayer`, guaranteeing that all layer types always have the same structure:"
   ]
  },
  {
   "cell_type": "code",
   "execution_count": 95,
   "metadata": {},
   "outputs": [],
   "source": [
    "class FullyConnectedLayer(NNLayer):\n",
    "    def __init__(self, n_inputs, n_outputs, seed=None):\n",
    "        rng = np.random.default_rng(seed)\n",
    "        self.weights = rng.random(size=(n_inputs, n_outputs)) - 0.5\n",
    "        self.biases = rng.random(size=(1, n_outputs)) - 0.5\n",
    "\n",
    "    def feed_forward(self, x):\n",
    "        self.x = np.atleast_2d(x)\n",
    "        self.y = np.dot(self.x, self.weights) + self.biases\n",
    "        return self.y\n",
    "\n",
    "    def backward_propagation(self, dJdy, learning_rate):\n",
    "        dJdW = np.dot(self.x.T, dJdy)\n",
    "        dJdb = np.dot(np.ones(self.x.shape[0]), dJdy)\n",
    "        dJdy_prev = np.dot(dJdy, self.weights.T)\n",
    "\n",
    "        self.weights -= learning_rate * dJdW\n",
    "        self.biases -= learning_rate * dJdb\n",
    "        \n",
    "        return dJdy_prev"
   ]
  },
  {
   "cell_type": "markdown",
   "metadata": {},
   "source": [
    "As a preparation for the activation layer, we now define a activation function and\n",
    "its derivative:"
   ]
  },
  {
   "cell_type": "code",
   "execution_count": 96,
   "metadata": {},
   "outputs": [],
   "source": [
    "def tanh_function(x):\n",
    "    return np.tanh(x)\n",
    "\n",
    "def tanh_derivative(x):\n",
    "    return 1 - np.tanh(x) ** 2"
   ]
  },
  {
   "cell_type": "markdown",
   "metadata": {},
   "source": [
    "Implement the class for the activation layer:"
   ]
  },
  {
   "cell_type": "code",
   "execution_count": 97,
   "metadata": {},
   "outputs": [],
   "source": [
    "class ActivationLayer(NNLayer):\n",
    "    def __init__(self):\n",
    "        self.phi = tanh_function\n",
    "        self.dphidx = tanh_derivative\n",
    "\n",
    "    def feed_forward(self, x):\n",
    "        self.x = x\n",
    "        self.y = self.phi(self.x)\n",
    "        return self.y\n",
    "    \n",
    "    def backward_propagation(self, dJdy, learning_rate):\n",
    "        return self.dphidx(self.x) * dJdy"
   ]
  },
  {
   "cell_type": "markdown",
   "metadata": {},
   "source": [
    "For later use during the training, we now implement the cost function and its derivative\n",
    "based on the MSE:"
   ]
  },
  {
   "cell_type": "code",
   "execution_count": 98,
   "metadata": {},
   "outputs": [],
   "source": [
    "def MSE(y_true, y_pred):\n",
    "    return np.mean((y_true - y_pred) ** 2)\n",
    "\n",
    "def dMSE_dy(y_true, y_pred):\n",
    "    return 2 / y_pred.size * (y_pred - y_true)"
   ]
  },
  {
   "cell_type": "markdown",
   "metadata": {},
   "source": [
    "We are now ready to implement the Network class which contains functionality for\n",
    "assembling the network, for training, and for predicting."
   ]
  },
  {
   "cell_type": "code",
   "execution_count": 99,
   "metadata": {},
   "outputs": [],
   "source": [
    "class Network:\n",
    "    def __init__(self, cost_function, derivative_of_cost):\n",
    "        self.layers = []\n",
    "        self.cost_function = cost_function\n",
    "        self.derivative_of_cost = derivative_of_cost\n",
    "\n",
    "    def add_layer(self, layer):\n",
    "        self.layers.append(layer)\n",
    "\n",
    "    def train(self, X_train, Y_train, epochs, learning_rate):\n",
    "        all_costs = []\n",
    "        for i in range(epochs):\n",
    "            cost = 0\n",
    "            for x_train, y_train in zip(X_train, Y_train):\n",
    "                # compute prediction through forward propagations\n",
    "                y_pred = x_train\n",
    "                for layer in self.layers:\n",
    "                    y_pred = layer.feed_forward(y_pred)\n",
    "\n",
    "                cost += self.cost_function(y_train, y_pred)\n",
    "\n",
    "                # perform backprop of errors\n",
    "                error = self.derivative_of_cost(y_train, y_pred)\n",
    "                for layer in reversed(self.layers):\n",
    "                    error = layer.backward_propagation(error, \n",
    "                                                       learning_rate)\n",
    "            \n",
    "            all_costs.append(cost / X_train.shape[0])\n",
    "        return all_costs       \n",
    "\n",
    "    def predict(self, X):\n",
    "        Y = []\n",
    "        for x in X:\n",
    "            y = x\n",
    "            for layer in self.layers:\n",
    "                y = layer.feed_forward(y)\n",
    "            Y.append(y)\n",
    "        return np.array(Y) "
   ]
  },
  {
   "cell_type": "markdown",
   "metadata": {},
   "source": [
    "### 18.5.2 Application: Identification of Handwritten Digits\n",
    "For using the dataset there are two options:\n",
    "- Option 1: Use the sklearn-digits dataset. \n",
    "  This is a small dataset (an extract from the original \"Alpaydin\" dataset) and was\n",
    "  already preprocessed (e.g., the \"images\" are flattened into 1D arrays)\n",
    "- Option 2: import the data from the package `mdsdata` (see https://mds-book.org/Content/datasets for how to install the package). This dataset has more data.\n",
    "\n",
    "Additionally, we also scale and shuffle the data, and turn each 8x8 image into a 1D array with 64 entries. Last but not least, we don't train with the full dataset."
   ]
  },
  {
   "cell_type": "code",
   "execution_count": 100,
   "metadata": {},
   "outputs": [
    {
     "name": "stdout",
     "output_type": "stream",
     "text": [
      "shape of X_train: (1257, 64)\n",
      "shape of Y_train: (1257, 10)\n"
     ]
    },
    {
     "data": {
      "image/png": "[encoded data removed]",
      "text/plain": [
       "<Figure size 640x480 with 2 Axes>"
      ]
     },
     "metadata": {},
     "output_type": "display_data"
    }
   ],
   "source": [
    "# Option 1: Use the entire sklearn-digits dataset:\n",
    "\n",
    "from sklearn.datasets import load_digits\n",
    "digits = load_digits()\n",
    "\n",
    "# Target variable: One-hot-encoding: map each number of the interval [0,9] to a vector\n",
    "# 9 zeros and a one, such that, e.g., 2 is mapped to [0, 0, 1, 0, 0, 0, 0, 0, 0, 0]\n",
    "Y = digits.target\n",
    "Y = np.eye(10, dtype=int)[Y]\n",
    "\n",
    "# Scale the feature value range to [0, 1]\n",
    "X = digits.data / 16\n",
    "\n",
    "# show an example:\n",
    "im = plt.imshow(X[0].reshape(8,8), cmap='gray')\n",
    "plt.colorbar(im)\n",
    "\n",
    "# do the usual train-test split:\n",
    "X_train, Y_train, X_test, Y_test = train_test_split(X, Y, fraction=0.7, seed=None)\n",
    "\n",
    "print(\"shape of X_train:\", X_train.shape)\n",
    "print(\"shape of Y_train:\", Y_train.shape)"
   ]
  },
  {
   "cell_type": "code",
   "execution_count": 101,
   "metadata": {},
   "outputs": [
    {
     "name": "stdout",
     "output_type": "stream",
     "text": [
      "shape of X_train: (879, 64)\n",
      "shape of Y_train: (879, 10)\n"
     ]
    },
    {
     "data": {
      "image/png": "[encoded data removed]",
      "text/plain": [
       "<Figure size 640x480 with 2 Axes>"
      ]
     },
     "metadata": {},
     "output_type": "display_data"
    }
   ],
   "source": [
    "# Option 2: Use the MDS-Data dataset which is a larger dataset\n",
    "from mdsdata import DS2_light\n",
    "digits = DS2_light.load_data()\n",
    "\n",
    "# Scale the feature value range to [0, 1]\n",
    "X = digits.data / digits.data.max() \n",
    "\n",
    "# for training each image should be \"flattened\" into a \"vector\" of 64 elements\n",
    "X = X.reshape(X.shape[0], -1)  \n",
    "\n",
    "# Target variable: One-hot-encoding: map each number of the interval [0,9] to a vector\n",
    "# 9 zeros and a one, such that, e.g., 2 is mapped to [0, 0, 1, 0, 0, 0, 0, 0, 0, 0]\n",
    "Y = digits.target\n",
    "Y = np.eye(10, dtype=int)[Y]\n",
    "\n",
    "# shuffle all images -- just because we will take the first few images only\n",
    "# and want to be sure that they are not sorted in some way (they aren't, but\n",
    "# better safe than sorry...)\n",
    "n_images = 1257  # that's also the number of images in the scikit-learn dataset...  \n",
    "indices = np.arange(X.shape[0])\n",
    "np.random.shuffle(indices) \n",
    "indices = indices[:n_images]\n",
    "X = X[indices]\n",
    "Y = Y[indices]\n",
    "\n",
    "# show an example:\n",
    "im = plt.imshow(X[0].reshape(8,8), cmap='gray')\n",
    "plt.colorbar(im)\n",
    "\n",
    "# do the usual train-test split:\n",
    "X_train, Y_train, X_test, Y_test = train_test_split(X, Y, fraction=0.7)\n",
    "\n",
    "print(\"shape of X_train:\", X_train.shape)\n",
    "print(\"shape of Y_train:\", Y_train.shape)"
   ]
  },
  {
   "cell_type": "markdown",
   "metadata": {},
   "source": [
    "Assemble the network: We chose an architecture consisting of as many\n",
    "input nodes as there are features which is why in the code we use `X_train.shape[-1]` ."
   ]
  },
  {
   "cell_type": "code",
   "execution_count": 102,
   "metadata": {},
   "outputs": [
    {
     "data": {
      "text/plain": [
       "(0.2443321630318221, 0.005482129345692458)"
      ]
     },
     "execution_count": 102,
     "metadata": {},
     "output_type": "execute_result"
    }
   ],
   "source": [
    "nn = Network(MSE, dMSE_dy)\n",
    "nn.add_layer(FullyConnectedLayer(X_train.shape[-1], 80))\n",
    "nn.add_layer(ActivationLayer())\n",
    "nn.add_layer(FullyConnectedLayer(80, 40))\n",
    "nn.add_layer(ActivationLayer())\n",
    "nn.add_layer(FullyConnectedLayer(40, 10))\n",
    "nn.add_layer(ActivationLayer())\n",
    "\n",
    "# Note that this might take up to a minute ...\n",
    "train_mse = nn.train(X_train, Y_train, epochs=200, learning_rate=0.01)\n",
    "train_mse[0], train_mse[-1]"
   ]
  },
  {
   "cell_type": "markdown",
   "metadata": {},
   "source": [
    "Let us now plot the mean loss for each epoch:"
   ]
  },
  {
   "cell_type": "code",
   "execution_count": 103,
   "metadata": {},
   "outputs": [
    {
     "data": {
      "text/plain": [
       "[Text(0.5, 0, 'epochs'), Text(0, 0.5, 'cost (MSE)'), (0.0, 0.1)]"
      ]
     },
     "execution_count": 103,
     "metadata": {},
     "output_type": "execute_result"
    },
    {
     "data": {
      "image/png": "[encoded data removed]",
      "text/plain": [
       "<Figure size 640x480 with 1 Axes>"
      ]
     },
     "metadata": {},
     "output_type": "display_data"
    }
   ],
   "source": [
    "fig, ax = plt.subplots()\n",
    "ax.plot(train_mse)\n",
    "ax.set(xlabel='epochs', ylabel='cost (MSE)', ylim=(0, 0.1))"
   ]
  },
  {
   "cell_type": "markdown",
   "metadata": {},
   "source": [
    "Last but not least, the confusion matrix shows information about how many images were correctly or wrongly classified as one of the digits:"
   ]
  },
  {
   "cell_type": "code",
   "execution_count": 104,
   "metadata": {},
   "outputs": [
    {
     "name": "stdout",
     "output_type": "stream",
     "text": [
      "361 out of 3780 images were correctly predicted\n"
     ]
    }
   ],
   "source": [
    "confusion_matrix = np.zeros((10, 10), dtype=int)\n",
    "Y_pred = nn.predict(X_test)\n",
    "\n",
    "correct = 0\n",
    "for yt, yp in zip(Y_test, Y_pred):\n",
    "    pred_digit = np.argmax(yp)\n",
    "    true_digit = np.argmax(yt)\n",
    "    confusion_matrix[true_digit, pred_digit] += 1\n",
    "    if true_digit == pred_digit:\n",
    "        correct += 1\n",
    "\n",
    "print(f\"{correct} out of {Y_pred.size} images were correctly predicted\")"
   ]
  },
  {
   "cell_type": "code",
   "execution_count": 105,
   "metadata": {},
   "outputs": [
    {
     "data": {
      "image/png": "[encoded data removed]",
      "text/plain": [
       "<Figure size 640x480 with 2 Axes>"
      ]
     },
     "metadata": {},
     "output_type": "display_data"
    }
   ],
   "source": [
    "fig, ax = plt.subplots()\n",
    "im = ax.imshow(confusion_matrix, cmap='magma_r', origin='lower')\n",
    "plt.colorbar(im)\n",
    "ax.set(xlabel='predicted digit', ylabel='true digit', xticks=range(10), yticks=range(10));"
   ]
  },
  {
   "cell_type": "code",
   "execution_count": null,
   "metadata": {},
   "outputs": [],
   "source": []
  }
 ],
 "metadata": {
  "kernelspec": {
   "display_name": "MDSbook",
   "language": "python",
   "name": "python3"
  },
  "language_info": {
   "codemirror_mode": {
    "name": "ipython",
    "version": 3
   },
   "file_extension": ".py",
   "mimetype": "text/x-python",
   "name": "python",
   "nbconvert_exporter": "python",
   "pygments_lexer": "ipython3",
   "version": "3.9.5"
  }
 },
 "nbformat": 4,
 "nbformat_minor": 2
}
