{
 "cells": [
  {
   "cell_type": "markdown",
   "metadata": {},
   "source": [
    "<div class=\"alert alert-block alert-success\">\n",
    "This jupyter notebook is part of the supplementary material for the book \"Materials Data Science\" (Stefan Sandfeld, Springer, 2024, DOI 10.1007/978-3-031-46565-9). For further details please refer to the accompanying webpage at <a href=\"https://mds-book.org\">https://mds-book.org</a>.\n",
    "</div>"
   ]
  },
  {
   "cell_type": "code",
   "execution_count": 1,
   "metadata": {},
   "outputs": [],
   "source": [
    "import matplotlib.pyplot as plt\n",
    "import numpy as np"
   ]
  },
  {
   "cell_type": "markdown",
   "metadata": {},
   "source": [
    "## 17.4 Increasing the Complexity: Assemblies of Neurons\n",
    "### 17.4.3 Python Implementation of the Two-Neuron-Assembly"
   ]
  },
  {
   "cell_type": "code",
   "execution_count": 2,
   "metadata": {},
   "outputs": [
    {
     "name": "stdout",
     "output_type": "stream",
     "text": [
      "x1 = [0 1 0 1], x2 = [0 0 1 1]\n",
      " y = [ True False False  True]\n"
     ]
    }
   ],
   "source": [
    "b1, w1, w2, theta1 = 0.5, -2.0, 2.0, -1.0   # TLU 1\n",
    "b2, w3, w4, theta2 = 0.0, 1.5, -2.1, -1.0   # TLU 2\n",
    "b3, w5, w6, theta3 = 0.0, -1.8, -2.2, -2.5  # output node\n",
    "\n",
    "# the 4 points for the XOR problem: (0, 0), (1, 0), (0, 1), (1, 1)\n",
    "x1 = np.array([0, 1, 0, 1])\n",
    "x2 = np.array([0, 0, 1, 1])\n",
    "\n",
    "# TLU 1\n",
    "a1 = w1 * x1 + w2 * x2 + b1           # weighted sum\n",
    "y1 = np.where(a1 >= theta1, +1, -1)   # evaluate activation functions\n",
    "\n",
    "# TLU 2\n",
    "a2 = w3 * x1 + w4 * x2 + b2           # weighted sum\n",
    "y2 = np.where(a2 >= theta2, +1, -1)   # evaluate activation functions\n",
    "\n",
    "# Output node\n",
    "a3 = w5 * y1 + w6 * y2 + b3\n",
    "y = np.where(a3 >= theta3, False, True)\n",
    "print(f'x1 = {x1}, x2 = {x2}')\n",
    "print(f' y = {y}')"
   ]
  }
 ],
 "metadata": {
  "kernelspec": {
   "display_name": "MDSbook",
   "language": "python",
   "name": "python3"
  },
  "language_info": {
   "codemirror_mode": {
    "name": "ipython",
    "version": 3
   },
   "file_extension": ".py",
   "mimetype": "text/x-python",
   "name": "python",
   "nbconvert_exporter": "python",
   "pygments_lexer": "ipython3",
   "version": "3.9.5"
  }
 },
 "nbformat": 4,
 "nbformat_minor": 2
}
