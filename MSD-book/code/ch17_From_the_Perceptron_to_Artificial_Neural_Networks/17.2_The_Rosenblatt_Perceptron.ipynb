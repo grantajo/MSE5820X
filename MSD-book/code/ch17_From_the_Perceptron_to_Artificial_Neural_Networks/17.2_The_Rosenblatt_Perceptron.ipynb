{
 "cells": [
  {
   "cell_type": "markdown",
   "metadata": {},
   "source": [
    "<div class=\"alert alert-block alert-success\">\n",
    "This jupyter notebook is part of the supplementary material for the book \"Materials Data Science\" (Stefan Sandfeld, Springer, 2024, DOI 10.1007/978-3-031-46565-9). For further details please refer to the accompanying webpage at <a href=\"https://mds-book.org\">https://mds-book.org</a>.\n",
    "</div>"
   ]
  },
  {
   "cell_type": "code",
   "execution_count": 6,
   "metadata": {},
   "outputs": [],
   "source": [
    "import matplotlib.pyplot as plt\n",
    "import numpy as np\n",
    "\n",
    "\n",
    "# This is the function from listing 17.1, copied here for convenience:\n",
    "def predict(x, weights, bias, threshold):\n",
    "    # Evaluate the transfer function: we're using numpy's scalar product `dot`\n",
    "    a = bias + np.dot(x, weights)\n",
    "\n",
    "    # Activation function: check if the perceptron fires\n",
    "    # (For 1 data record a is a scalar and we could simply use\n",
    "    # `y = int(a >= threshold)`. For multiple data records, a is a 1D array\n",
    "    # --> use numpy' `where(condition, x, y)` function which returns x for\n",
    "    # those elements where the condition holds and for all others it returns y.)\n",
    "    y = np.where(a >= threshold, 1, 0)\n",
    "\n",
    "    return y "
   ]
  },
  {
   "cell_type": "markdown",
   "metadata": {},
   "source": [
    "## 17.2 The Rosenblatt Perceptron\n",
    "#### Example 17.2: Prediction with the perceptron model for two inputs\n",
    "\n",
    "Assume a perceptron with two inputs and a threshold of 𝜃 = 1. Furthermore, given\n",
    "are the weights 𝑤1 = 1.5 and 𝑤2 = 2 together with the bias 𝑏 = 0.5. We can then\n",
    "make predictions, e.g., for the input vector 𝑥 = [1, 1] :"
   ]
  },
  {
   "cell_type": "code",
   "execution_count": 5,
   "metadata": {},
   "outputs": [
    {
     "name": "stdout",
     "output_type": "stream",
     "text": [
      "x = [1 1], y = 1\n"
     ]
    }
   ],
   "source": [
    "weights = np.array([1.5, 2])\n",
    "bias = 0.5\n",
    "x = np.array([1, 1])\n",
    "y = predict(x, weights, bias, threshold=1.0)\n",
    "print(f'x = {x}, y = {y}')"
   ]
  },
  {
   "cell_type": "markdown",
   "metadata": {},
   "source": [
    "### Python Implementation of the Perceptron"
   ]
  },
  {
   "cell_type": "code",
   "execution_count": 7,
   "metadata": {},
   "outputs": [],
   "source": [
    "# These are the functions from listing 17.2, copied here for convenience:\n",
    "def train_1_epoch(X_train, y_train, weights, bias, threshold, learning_rate):\n",
    "    n_samples, n_features = X_train.shape\n",
    "    y_pred = np.zeros_like(y_train)\n",
    "\n",
    "    for j in range(n_samples):\n",
    "        # feed forward direction\n",
    "        y_pred[j] = predict(X_train[j], weights, bias, threshold)\n",
    "\n",
    "        # backwards direction (\"perceptron rule\")\n",
    "        weights += learning_rate * (y_train[j] - y_pred[j]) * X_train[j]\n",
    "        bias += learning_rate * (y_train[j] - y_pred[j])\n",
    "\n",
    "    return weights, bias\n",
    "\n",
    "\n",
    "def train(X_train, y_train, n_epochs, learning_rate, threshold=0.):\n",
    "    n_features = X_train.shape[1]  # the features are the columns of X_train\n",
    "    weights = np.zeros(n_features)\n",
    "    bias = 0.\n",
    "\n",
    "    for i in range(n_epochs):\n",
    "        weights, bias = train_1_epoch(X_train, y_train, weights, bias,\n",
    "                                      threshold, learning_rate)\n",
    "        y_pred = predict(X_train, weights, bias, threshold)\n",
    "\n",
    "        if np.sum(np.abs(y_pred - y_train)) == 0:  # check if error is zero\n",
    "             break\n",
    "    \n",
    "    return weights, bias   "
   ]
  },
  {
   "cell_type": "code",
   "execution_count": 9,
   "metadata": {},
   "outputs": [
    {
     "name": "stdout",
     "output_type": "stream",
     "text": [
      "weights: [0.0021 0.0013]\n",
      "bias: -0.001\n"
     ]
    }
   ],
   "source": [
    "\n",
    "# define training data: X_train is a 2D array, y_train is 1D, e.g.\n",
    "X_train = np.array([[0.9, 1], [1, 0.1], [0.2, 1], [0., 0.2]])\n",
    "y_train = [1, 1, 1, 0]\n",
    "\n",
    "# the result of the training are values for the weights and the bias:\n",
    "weights, bias = train(X_train, y_train, n_epochs=20, learning_rate=0.001)\n",
    "print(\"weights:\", weights)\n",
    "print(\"bias:\", bias)"
   ]
  }
 ],
 "metadata": {
  "kernelspec": {
   "display_name": "MDSbook",
   "language": "python",
   "name": "python3"
  },
  "language_info": {
   "codemirror_mode": {
    "name": "ipython",
    "version": 3
   },
   "file_extension": ".py",
   "mimetype": "text/x-python",
   "name": "python",
   "nbconvert_exporter": "python",
   "pygments_lexer": "ipython3",
   "version": "3.9.5"
  }
 },
 "nbformat": 4,
 "nbformat_minor": 2
}
