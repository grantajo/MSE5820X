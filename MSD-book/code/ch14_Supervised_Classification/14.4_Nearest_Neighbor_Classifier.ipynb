{
 "cells": [
  {
   "cell_type": "markdown",
   "metadata": {},
   "source": [
    "<div class=\"alert alert-block alert-success\">\n",
    "This jupyter notebook is part of the supplementary material for the book \"Materials Data Science\" (Stefan Sandfeld, Springer, 2024, DOI 10.1007/978-3-031-46565-9). For further details please refer to the accompanying webpage at <a href=\"https://mds-book.org\">https://mds-book.org</a>.\n",
    "</div>"
   ]
  },
  {
   "cell_type": "code",
   "execution_count": 1,
   "metadata": {},
   "outputs": [],
   "source": [
    "import matplotlib.pyplot as plt\n",
    "import numpy as np"
   ]
  },
  {
   "cell_type": "markdown",
   "metadata": {},
   "source": [
    "## 14.4 Nearest Neighbor Classifier\n",
    "\n",
    "### 14.4.2 The (First- or One-) Nearest Neighbor Method\n",
    "\n",
    "Assume a given training\n",
    "dataset consisting of features and labels. Then, for a new point 𝑃 in feature space $\\hat{x}$\n",
    "with unknown label $\\hat{y}$ we search for the most similar point of the training data, $x_i$,\n",
    "and assign its label to the new point, $\\hat{y} := y_i$."
   ]
  },
  {
   "cell_type": "code",
   "execution_count": 2,
   "metadata": {},
   "outputs": [],
   "source": [
    "import numpy as np\n",
    "\n",
    "# X contains the training data: 2 features in columns and 4 records\n",
    "# in rows, y contains the 4 labels (0 or 1) of the training data.\n",
    "X = np.array([[ 0.19, -1.63], [1.62, 3.02], [-2.54, 0.61], [-1.29, -0.26]])\n",
    "y = np.array([0, 0, 1, 1], dtype=int)\n",
    "\n",
    "# Define the coordinates (\"features\") of a point for which the\n",
    "# label is wanted:\n",
    "x_new = np.array([2, 0])"
   ]
  },
  {
   "cell_type": "markdown",
   "metadata": {},
   "source": [
    "where we defined the training data and the unknown point. Next, we compute the\n",
    "Euclidean distance of 𝑃 to all points in 𝑋:"
   ]
  },
  {
   "cell_type": "code",
   "execution_count": 3,
   "metadata": {},
   "outputs": [],
   "source": [
    "dist = []\n",
    "for x_train in X:\n",
    "    # each row of X contains two coordinates (\"features\")\n",
    "    dist.append(np.sqrt((x_train[0] - x_new[0]) ** 2 + \n",
    "                        (x_train[1] - x_new[1]) ** 2))"
   ]
  },
  {
   "cell_type": "markdown",
   "metadata": {},
   "source": [
    "Then, we can find the nearest point and print its label:"
   ]
  },
  {
   "cell_type": "code",
   "execution_count": 4,
   "metadata": {},
   "outputs": [
    {
     "data": {
      "text/plain": [
       "0"
      ]
     },
     "execution_count": 4,
     "metadata": {},
     "output_type": "execute_result"
    }
   ],
   "source": [
    "# Find index of smallest element (=nearest) using\n",
    "idx = np.argmin(dist)\n",
    "\n",
    "# ... and show the predicted class label\n",
    "y[idx]"
   ]
  }
 ],
 "metadata": {
  "kernelspec": {
   "display_name": "MDSbook",
   "language": "python",
   "name": "python3"
  },
  "language_info": {
   "codemirror_mode": {
    "name": "ipython",
    "version": 3
   },
   "file_extension": ".py",
   "mimetype": "text/x-python",
   "name": "python",
   "nbconvert_exporter": "python",
   "pygments_lexer": "ipython3",
   "version": "3.9.5"
  }
 },
 "nbformat": 4,
 "nbformat_minor": 2
}
