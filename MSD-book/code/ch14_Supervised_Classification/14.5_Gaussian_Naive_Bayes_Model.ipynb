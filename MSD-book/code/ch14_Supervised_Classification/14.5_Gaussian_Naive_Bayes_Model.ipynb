{
 "cells": [
  {
   "cell_type": "markdown",
   "metadata": {},
   "source": [
    "<div class=\"alert alert-block alert-success\">\n",
    "This jupyter notebook is part of the supplementary material for the book \"Materials Data Science\" (Stefan Sandfeld, Springer, 2024, DOI 10.1007/978-3-031-46565-9). For further details please refer to the accompanying webpage at <a href=\"https://mds-book.org\">https://mds-book.org</a>.\n",
    "</div>"
   ]
  },
  {
   "cell_type": "code",
   "execution_count": 1,
   "metadata": {},
   "outputs": [],
   "source": [
    "import matplotlib.pyplot as plt\n",
    "import numpy as np"
   ]
  },
  {
   "cell_type": "markdown",
   "metadata": {},
   "source": [
    "## 14.5 Gaussian Naive Bayes Model\n",
    "### 14.5.3 Algorithm and Python Implementation\n",
    "\n",
    "In the following, we write the GNB Algorithm for the special case of two classes and avoid for loops and advanced\n",
    "vectorization in favor for readability."
   ]
  },
  {
   "cell_type": "code",
   "execution_count": 2,
   "metadata": {},
   "outputs": [],
   "source": [
    "import numpy as np\n",
    "from scipy.stats import norm    # Gaussian distribution\n",
    "from numpy.random import multivariate_normal"
   ]
  },
  {
   "cell_type": "markdown",
   "metadata": {},
   "source": [
    "Here, `multivariate_norm` is used for sampling from a bivariate Gaussian distribution for creating\n",
    "training data:"
   ]
  },
  {
   "cell_type": "code",
   "execution_count": 3,
   "metadata": {},
   "outputs": [],
   "source": [
    "X_class0 = multivariate_normal(mean=(-1, 0), cov=[[1, 0], [0,2]], size=30)\n",
    "X_class1 = multivariate_normal(mean=(2, 3), cov=[[1, 0], [0,1]], size=20)\n",
    "Y_class0 = np.zeros_like(X_class0)\n",
    "Y_class1 = np.ones_like(X_class1)"
   ]
  },
  {
   "cell_type": "markdown",
   "metadata": {},
   "source": [
    "Next, we compute the mean values for all classes and for all features. As additional\n",
    "preparation, we also already computed the marginal probabilities of both classes."
   ]
  },
  {
   "cell_type": "code",
   "execution_count": 4,
   "metadata": {},
   "outputs": [],
   "source": [
    "means_class0 = [np.mean(X_class0[:,0]), np.mean(X_class0[:,1])]\n",
    "means_class1 = [np.mean(X_class1[:,0]), np.mean(X_class1[:,1])]\n",
    "\n",
    "stddev_class0 = [np.std(X_class0[:,0]), np.std(X_class0[:,1])]\n",
    "stddev_class1 = [np.std(X_class1[:,0]), np.std(X_class1[:,1])]\n",
    "\n",
    "P_Y_for_class_0 = np.size(Y_class0) / (np.size(Y_class0) + np.size(Y_class1))\n",
    "P_Y_for_class_1 = np.size(Y_class1) / (np.size(Y_class0) + np.size(Y_class1))"
   ]
  },
  {
   "cell_type": "markdown",
   "metadata": {},
   "source": [
    "Now, the model is trained, and we choose a feature vector for which we seek the class\n",
    "label."
   ]
  },
  {
   "cell_type": "code",
   "execution_count": 5,
   "metadata": {},
   "outputs": [],
   "source": [
    "X_pred = np.array([0, 1])"
   ]
  },
  {
   "cell_type": "markdown",
   "metadata": {},
   "source": [
    "Subsequently, we create numpy “Gaussian random variables” that can\n",
    "be used to evaluate the PDF at the “location” X_pred . (cf. Section 10.7 for more details)."
   ]
  },
  {
   "cell_type": "code",
   "execution_count": 6,
   "metadata": {},
   "outputs": [],
   "source": [
    "# class 0\n",
    "rv0 = norm(loc=means_class0[0], scale=stddev_class0[0])\n",
    "rv1 = norm(loc=means_class0[1], scale=stddev_class0[1])\n",
    "P_X1_given_class0 = rv0.pdf(X_pred[0])\n",
    "P_X2_given_class0 = rv1.pdf(X_pred[1])\n",
    "\n",
    "# class 1\n",
    "rv0 = norm(loc=means_class1[0], scale=stddev_class1[0])\n",
    "rv1 = norm(loc=means_class1[1], scale=stddev_class1[1])\n",
    "P_X1_given_class1 = rv0.pdf(X_pred[0])\n",
    "P_X2_given_class1 = rv1.pdf(X_pred[1])"
   ]
  },
  {
   "cell_type": "markdown",
   "metadata": {},
   "source": [
    "Finally, we are able to compute the scores for the point w.r.t. both classes"
   ]
  },
  {
   "cell_type": "code",
   "execution_count": 7,
   "metadata": {},
   "outputs": [],
   "source": [
    "P_X_given_class0 = P_X1_given_class0 * P_X2_given_class0\n",
    "P_X_given_class1 = P_X1_given_class1 * P_X2_given_class1\n",
    "score_class0_given_X1_X2 = P_X_given_class0 * P_Y_for_class_0\n",
    "score_class1_given_X1_X2 = P_X_given_class1 * P_Y_for_class_1\n",
    "\n",
    "if score_class0_given_X1_X2 > score_class1_given_X1_X2:\n",
    "    Y_pred = 0\n",
    "else:\n",
    "    Y_pred = 1"
   ]
  },
  {
   "cell_type": "code",
   "execution_count": 8,
   "metadata": {},
   "outputs": [
    {
     "name": "stdout",
     "output_type": "stream",
     "text": [
      "score class0: 0.02328479308515339\n",
      "score class1: 0.0002917487743530573\n",
      "--> class 0\n"
     ]
    }
   ],
   "source": [
    "print(\"score class0:\", score_class0_given_X1_X2)\n",
    "print(\"score class1:\", score_class1_given_X1_X2)\n",
    "print(\"--> class\", Y_pred)"
   ]
  },
  {
   "cell_type": "code",
   "execution_count": 9,
   "metadata": {},
   "outputs": [
    {
     "data": {
      "image/png": "[encoded data removed]",
      "text/plain": [
       "<Figure size 640x480 with 1 Axes>"
      ]
     },
     "metadata": {},
     "output_type": "display_data"
    }
   ],
   "source": [
    "fig, ax = plt.subplots()\n",
    "ax.plot(X_class0[:, 0], X_class0[:, 1], '.', c='C0', label='class 0')\n",
    "ax.plot(X_class1[:, 0], X_class1[:, 1], '.', c='C6', label='class 1')\n",
    "c = 'C0' if Y_pred == 0 else 'C6'\n",
    "ax.plot(X_pred[0], X_pred[1], 'o', color=c, label='prediction')\n",
    "ax.legend();"
   ]
  }
 ],
 "metadata": {
  "kernelspec": {
   "display_name": "MDSbook",
   "language": "python",
   "name": "python3"
  },
  "language_info": {
   "codemirror_mode": {
    "name": "ipython",
    "version": 3
   },
   "file_extension": ".py",
   "mimetype": "text/x-python",
   "name": "python",
   "nbconvert_exporter": "python",
   "pygments_lexer": "ipython3",
   "version": "3.9.5"
  }
 },
 "nbformat": 4,
 "nbformat_minor": 2
}
