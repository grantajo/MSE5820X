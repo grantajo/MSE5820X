{
 "cells": [
  {
   "cell_type": "markdown",
   "metadata": {},
   "source": [
    "<div class=\"alert alert-block alert-success\">\n",
    "This jupyter notebook is part of the supplementary material for the book \"Materials Data Science\" (Stefan Sandfeld, Springer, 2024, DOI 10.1007/978-3-031-46565-9). For further details please refer to the accompanying webpage at <a href=\"https://mds-book.org\">https://mds-book.org</a>.\n",
    "</div>"
   ]
  },
  {
   "cell_type": "code",
   "execution_count": 1,
   "metadata": {},
   "outputs": [],
   "source": [
    "import matplotlib.pyplot as plt\n",
    "import numpy as np"
   ]
  },
  {
   "cell_type": "markdown",
   "metadata": {},
   "source": [
    "## 13.2 Generalized Formulations and Vectorization for Multiple Linear Regression\n",
    "#### Example 13.1: Vectorized Linear Regression in Python"
   ]
  },
  {
   "cell_type": "code",
   "execution_count": 2,
   "metadata": {},
   "outputs": [],
   "source": [
    "# feature matrix with 1 feature\n",
    "X = np.array([1.1, 2.2, 3.0, 3.9]).reshape(-1, 1)\n",
    "\n",
    "# target vector (1 column)\n",
    "Y = np.array([1.3, 2.4, 2.9, 3.6]).reshape(-1, 1)\n",
    "\n",
    "# (initial) weights in 1 column\n",
    "weights = np.array([-0.5, 0.2]).reshape(-1, 1)\n",
    "\n",
    "# number of data records\n",
    "n_records = X.shape[0]"
   ]
  },
  {
   "cell_type": "code",
   "execution_count": 3,
   "metadata": {},
   "outputs": [
    {
     "data": {
      "text/plain": [
       "array([[1.1],\n",
       "       [2.2],\n",
       "       [3. ],\n",
       "       [3.9]])"
      ]
     },
     "execution_count": 3,
     "metadata": {},
     "output_type": "execute_result"
    }
   ],
   "source": [
    "X"
   ]
  },
  {
   "cell_type": "markdown",
   "metadata": {},
   "source": [
    "Create the \"extended feature matrix\" by prepending a columns of 1s:"
   ]
  },
  {
   "cell_type": "code",
   "execution_count": 4,
   "metadata": {},
   "outputs": [
    {
     "data": {
      "text/plain": [
       "array([[1. , 1.1],\n",
       "       [1. , 2.2],\n",
       "       [1. , 3. ],\n",
       "       [1. , 3.9]])"
      ]
     },
     "execution_count": 4,
     "metadata": {},
     "output_type": "execute_result"
    }
   ],
   "source": [
    "# stack arrays horizontally\n",
    "IX = np.hstack((np.ones_like(X), X))\n",
    "IX"
   ]
  },
  {
   "cell_type": "markdown",
   "metadata": {},
   "source": [
    "Next, the closed form solution for the weights, $\\boldsymbol{w}^∗$ , for which the loss function reaches\n",
    "a minimum is implemented. There, the numpy function `inv` from the `linalg` module was used for inverting\n",
    "$\\mathbb{X}^\\text{T} \\mathbb{X}$."
   ]
  },
  {
   "cell_type": "code",
   "execution_count": 5,
   "metadata": {},
   "outputs": [
    {
     "data": {
      "text/plain": [
       "array([[1.37635294],\n",
       "       [2.26670588],\n",
       "       [2.91423529],\n",
       "       [3.64270588]])"
      ]
     },
     "execution_count": 5,
     "metadata": {},
     "output_type": "execute_result"
    }
   ],
   "source": [
    "exact_weights = np.linalg.inv(IX.T @ IX) @ IX.T @ Y\n",
    "\n",
    "Y_pred = IX @ exact_weights\n",
    "\n",
    "Y_pred"
   ]
  },
  {
   "cell_type": "markdown",
   "metadata": {},
   "source": [
    "Comparing this result to the elements of `Y` shows that the two results are quite close:"
   ]
  },
  {
   "cell_type": "code",
   "execution_count": 6,
   "metadata": {},
   "outputs": [
    {
     "data": {
      "text/plain": [
       "array([[1.3],\n",
       "       [2.4],\n",
       "       [2.9],\n",
       "       [3.6]])"
      ]
     },
     "execution_count": 6,
     "metadata": {},
     "output_type": "execute_result"
    }
   ],
   "source": [
    "Y"
   ]
  }
 ],
 "metadata": {
  "kernelspec": {
   "display_name": "MDSbook",
   "language": "python",
   "name": "python3"
  },
  "language_info": {
   "codemirror_mode": {
    "name": "ipython",
    "version": 3
   },
   "file_extension": ".py",
   "mimetype": "text/x-python",
   "name": "python",
   "nbconvert_exporter": "python",
   "pygments_lexer": "ipython3",
   "version": "3.9.5"
  }
 },
 "nbformat": 4,
 "nbformat_minor": 2
}
